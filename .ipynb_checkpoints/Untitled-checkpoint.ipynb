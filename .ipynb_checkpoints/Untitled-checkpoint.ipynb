{
 "cells": [
  {
   "cell_type": "code",
   "execution_count": 3,
   "metadata": {},
   "outputs": [
    {
     "name": "stdout",
     "output_type": "stream",
     "text": [
      "Collecting package metadata (repodata.json): ...working... done\n",
      "Solving environment: ...working... done\n",
      "\n",
      "## Package Plan ##\n",
      "\n",
      "  environment location: C:\\Users\\ap18525\\.conda\\envs\\my_env\n",
      "\n",
      "  added / updated specs:\n",
      "    - netcdf4\n",
      "\n",
      "\n",
      "The following packages will be downloaded:\n",
      "\n",
      "    package                    |            build\n",
      "    ---------------------------|-----------------\n",
      "    bzip2-1.0.8                |       hfa6e2cd_1         148 KB  conda-forge\n",
      "    ca-certificates-2019.9.11  |       hecc5488_0         181 KB  conda-forge\n",
      "    certifi-2019.6.16          |           py37_1         149 KB  conda-forge\n",
      "    cftime-1.0.3.4             |py37h452e1ab_1001         218 KB  conda-forge\n",
      "    hdf5-1.10.5                |nompi_ha405e13_1103        35.1 MB  conda-forge\n",
      "    libnetcdf-4.6.2            |    h376842a_1003         654 KB  conda-forge\n",
      "    netcdf4-1.5.1.2            |   py37h8c66456_1         388 KB  conda-forge\n",
      "    numpy-1.17.1               |   py37hc71023c_0         4.7 MB  conda-forge\n",
      "    pip-19.2.3                 |           py37_0         1.9 MB  conda-forge\n",
      "    python-3.7.3               |       h510b542_1        17.7 MB  conda-forge\n",
      "    setuptools-41.2.0          |           py37_0         652 KB  conda-forge\n",
      "    sqlite-3.29.0              |       hfa6e2cd_1         1.1 MB  conda-forge\n",
      "    tk-8.6.9                   |    hfa6e2cd_1003         3.7 MB  conda-forge\n",
      "    vs2015_runtime-14.16.27012 |       hf0eaf9b_0         2.4 MB\n",
      "    wheel-0.33.6               |           py37_0          52 KB  conda-forge\n",
      "    wincertstore-0.2           |        py37_1002          13 KB  conda-forge\n",
      "    zlib-1.2.11                |    h2fa13f4_1006         236 KB  conda-forge\n",
      "    ------------------------------------------------------------\n",
      "                                           Total:        69.3 MB\n",
      "\n",
      "The following NEW packages will be INSTALLED:\n",
      "\n",
      "  bzip2              conda-forge/win-64::bzip2-1.0.8-hfa6e2cd_1\n",
      "  ca-certificates    conda-forge/win-64::ca-certificates-2019.9.11-hecc5488_0\n",
      "  certifi            conda-forge/win-64::certifi-2019.6.16-py37_1\n",
      "  cftime             conda-forge/win-64::cftime-1.0.3.4-py37h452e1ab_1001\n",
      "  curl               conda-forge/win-64::curl-7.65.3-h4496350_0\n",
      "  hdf4               conda-forge/win-64::hdf4-4.2.13-hf8e6fe8_1002\n",
      "  hdf5               conda-forge/win-64::hdf5-1.10.5-nompi_ha405e13_1103\n",
      "  intel-openmp       pkgs/main/win-64::intel-openmp-2019.4-245\n",
      "  jpeg               conda-forge/win-64::jpeg-9c-hfa6e2cd_1001\n",
      "  krb5               conda-forge/win-64::krb5-1.16.3-hdd46e55_1001\n",
      "  libblas            conda-forge/win-64::libblas-3.8.0-12_mkl\n",
      "  libcblas           conda-forge/win-64::libcblas-3.8.0-12_mkl\n",
      "  libcurl            conda-forge/win-64::libcurl-7.65.3-h4496350_0\n",
      "  liblapack          conda-forge/win-64::liblapack-3.8.0-12_mkl\n",
      "  libnetcdf          conda-forge/win-64::libnetcdf-4.6.2-h376842a_1003\n",
      "  libssh2            conda-forge/win-64::libssh2-1.8.2-h642c060_2\n",
      "  mkl                pkgs/main/win-64::mkl-2019.4-245\n",
      "  netcdf4            conda-forge/win-64::netcdf4-1.5.1.2-py37h8c66456_1\n",
      "  numpy              conda-forge/win-64::numpy-1.17.1-py37hc71023c_0\n",
      "  openssl            conda-forge/win-64::openssl-1.1.1c-hfa6e2cd_0\n",
      "  pip                conda-forge/win-64::pip-19.2.3-py37_0\n",
      "  python             conda-forge/win-64::python-3.7.3-h510b542_1\n",
      "  setuptools         conda-forge/win-64::setuptools-41.2.0-py37_0\n",
      "  sqlite             conda-forge/win-64::sqlite-3.29.0-hfa6e2cd_1\n",
      "  tk                 conda-forge/win-64::tk-8.6.9-hfa6e2cd_1003\n",
      "  vc                 pkgs/main/win-64::vc-14.1-h0510ff6_4\n",
      "  vs2015_runtime     pkgs/main/win-64::vs2015_runtime-14.16.27012-hf0eaf9b_0\n",
      "  wheel              conda-forge/win-64::wheel-0.33.6-py37_0\n",
      "  wincertstore       conda-forge/win-64::wincertstore-0.2-py37_1002\n",
      "  zlib               conda-forge/win-64::zlib-1.2.11-h2fa13f4_1006\n",
      "\n",
      "\n",
      "\n",
      "Downloading and Extracting Packages\n",
      "\n",
      "pip-19.2.3           | 1.9 MB    |            |   0% \n",
      "pip-19.2.3           | 1.9 MB    | ########## | 100% \n",
      "\n",
      "wheel-0.33.6         | 52 KB     |            |   0% \n",
      "wheel-0.33.6         | 52 KB     | ########## | 100% \n",
      "\n",
      "zlib-1.2.11          | 236 KB    |            |   0% \n",
      "zlib-1.2.11          | 236 KB    | ########## | 100% \n",
      "\n",
      "vs2015_runtime-14.16 | 2.4 MB    |            |   0% \n",
      "vs2015_runtime-14.16 | 2.4 MB    | ######3    |  64% \n",
      "vs2015_runtime-14.16 | 2.4 MB    | ########## | 100% \n",
      "\n",
      "libnetcdf-4.6.2      | 654 KB    |            |   0% \n",
      "libnetcdf-4.6.2      | 654 KB    | ########## | 100% \n",
      "\n",
      "hdf5-1.10.5          | 35.1 MB   |            |   0% \n",
      "hdf5-1.10.5          | 35.1 MB   | #8         |  18% \n",
      "hdf5-1.10.5          | 35.1 MB   | ####3      |  43% \n",
      "hdf5-1.10.5          | 35.1 MB   | #######2   |  72% \n",
      "hdf5-1.10.5          | 35.1 MB   | ########## | 100% \n",
      "\n",
      "wincertstore-0.2     | 13 KB     |            |   0% \n",
      "wincertstore-0.2     | 13 KB     | ########## | 100% \n",
      "\n",
      "certifi-2019.6.16    | 149 KB    |            |   0% \n",
      "certifi-2019.6.16    | 149 KB    | ########## | 100% \n",
      "\n",
      "cftime-1.0.3.4       | 218 KB    |            |   0% \n",
      "cftime-1.0.3.4       | 218 KB    | ########## | 100% \n",
      "\n",
      "sqlite-3.29.0        | 1.1 MB    |            |   0% \n",
      "sqlite-3.29.0        | 1.1 MB    | ########## | 100% \n",
      "\n",
      "bzip2-1.0.8          | 148 KB    |            |   0% \n",
      "bzip2-1.0.8          | 148 KB    | ########## | 100% \n",
      "\n",
      "netcdf4-1.5.1.2      | 388 KB    |            |   0% \n",
      "netcdf4-1.5.1.2      | 388 KB    | ########## | 100% \n",
      "\n",
      "ca-certificates-2019 | 181 KB    |            |   0% \n",
      "ca-certificates-2019 | 181 KB    | ########## | 100% \n",
      "\n",
      "numpy-1.17.1         | 4.7 MB    |            |   0% \n",
      "numpy-1.17.1         | 4.7 MB    | ########6  |  87% \n",
      "numpy-1.17.1         | 4.7 MB    | ########## | 100% \n",
      "\n",
      "tk-8.6.9             | 3.7 MB    |            |   0% \n",
      "tk-8.6.9             | 3.7 MB    | ########## | 100% \n",
      "\n",
      "python-3.7.3         | 17.7 MB   |            |   0% \n",
      "python-3.7.3         | 17.7 MB   | ###1       |  31% \n",
      "python-3.7.3         | 17.7 MB   | ######5    |  66% \n",
      "python-3.7.3         | 17.7 MB   | #########9 | 100% \n",
      "python-3.7.3         | 17.7 MB   | ########## | 100% \n",
      "\n",
      "setuptools-41.2.0    | 652 KB    |            |   0% \n",
      "setuptools-41.2.0    | 652 KB    | ########## | 100% \n",
      "Preparing transaction: ...working... done\n",
      "Verifying transaction: ...working... done\n",
      "Executing transaction: ...working... done\n",
      "#\n",
      "# To activate this environment, use\n",
      "#\n",
      "#     $ conda activate my_env\n",
      "#\n",
      "# To deactivate an active environment, use\n",
      "#\n",
      "#     $ conda deactivate\n",
      "\n"
     ]
    },
    {
     "name": "stderr",
     "output_type": "stream",
     "text": [
      "\n",
      "\n",
      "==> WARNING: A newer version of conda exists. <==\n",
      "  current version: 4.7.11\n",
      "  latest version: 4.7.12\n",
      "\n",
      "Please update conda by running\n",
      "\n",
      "    $ conda update -n base conda\n",
      "\n",
      "\n"
     ]
    }
   ],
   "source": [
    "!conda create --name my_env netcdf4 -y"
   ]
  },
  {
   "cell_type": "code",
   "execution_count": 4,
   "metadata": {},
   "outputs": [],
   "source": [
    "!conda activate my_env"
   ]
  },
  {
   "cell_type": "code",
   "execution_count": 6,
   "metadata": {},
   "outputs": [],
   "source": [
    "from netCDF4 import date2num"
   ]
  },
  {
   "cell_type": "code",
   "execution_count": null,
   "metadata": {},
   "outputs": [],
   "source": [
    "!conda env create -f environment.yml"
   ]
  },
  {
   "cell_type": "code",
   "execution_count": null,
   "metadata": {},
   "outputs": [],
   "source": []
  }
 ],
 "metadata": {
  "kernelspec": {
   "display_name": "Python 3",
   "language": "python",
   "name": "python3"
  },
  "language_info": {
   "codemirror_mode": {
    "name": "ipython",
    "version": 3
   },
   "file_extension": ".py",
   "mimetype": "text/x-python",
   "name": "python",
   "nbconvert_exporter": "python",
   "pygments_lexer": "ipython3",
   "version": "3.6.5"
  },
  "varInspector": {
   "cols": {
    "lenName": 16,
    "lenType": 16,
    "lenVar": 40
   },
   "kernels_config": {
    "python": {
     "delete_cmd_postfix": "",
     "delete_cmd_prefix": "del ",
     "library": "var_list.py",
     "varRefreshCmd": "print(var_dic_list())"
    },
    "r": {
     "delete_cmd_postfix": ") ",
     "delete_cmd_prefix": "rm(",
     "library": "var_list.r",
     "varRefreshCmd": "cat(var_dic_list()) "
    }
   },
   "types_to_exclude": [
    "module",
    "function",
    "builtin_function_or_method",
    "instance",
    "_Feature"
   ],
   "window_display": false
  }
 },
 "nbformat": 4,
 "nbformat_minor": 2
}
