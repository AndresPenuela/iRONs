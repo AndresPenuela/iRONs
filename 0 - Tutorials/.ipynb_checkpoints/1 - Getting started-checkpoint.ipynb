{
 "cells": [
  {
   "cell_type": "markdown",
   "metadata": {},
   "source": [
    "# Jupyter Notebooks in Python"
   ]
  },
  {
   "cell_type": "markdown",
   "metadata": {},
   "source": [
    "## Getting started\n",
    "Python is a general-purpose programming language with many powerful open-source libraries. This document describes how to set up the scientific Python environment on your computer and how to apply some of the capabilities of Jupyter Notebooks.\n",
    "\n",
    "### What is a Jupyter Notebook?\n",
    "A Jupyter Notebook is an interactive document that contains both rich text elements such as figures, links, equations, etc. and executable code (in this case Python code). It can also include interactive plots to visualise the results of executed code. It can be easily created, edited and run via a web browser with or without internet access. This mix makes Jupyter Notebooks ideal for supporting a more dynamic learning process, bringing together visual descriptions and real-time interaction between the user and the code.\n",
    "\n",
    "### How To Install Jupyter Notebook\n",
    "The general recommendation is that you use the Anaconda distribution to install both Python and the notebook application. \n",
    "\n",
    "Use this link https://www.anaconda.com/download/ to install the Anaconda distribution. It includes a number of useful packages and is much easier than managing packages individually. Choose the Python 3.6 version or above depending on your operating system.\n",
    "\n",
    "### How to Execute Jupyter Notebook\n",
    "\n",
    "In the Windows Start Menu look for the Anaconda folder and click on \"Jupyter Notebook\"\n",
    "\n",
    "<img src=\"Videos/Executing Jupyter 1.gif\" width = \"700px\">\n",
    "\n",
    "\n",
    "Jupyter Notebook will launch your web browser and open a page showing the list of folders and files of your computer. Look for the local folder where you have saved this document – and all the other Jupyter Notebooks coming with it - and open the file \"Simple example.ipynb\" or click on the link below. In this example we will learn how to use some of the capabilities of Jupyter Notebooks.\n",
    "\n",
    "<img src=\"Videos/Executing Simple Example.gif\" width = \"1000px\">\n"
   ]
  },
  {
   "cell_type": "markdown",
   "metadata": {
    "collapsed": true
   },
   "source": [
    "#### Let's go to the next section!: [Simple example](../1%20-%20Jupyter%20Notebook%20introduction/Simple%20example.ipynb)"
   ]
  },
  {
   "cell_type": "code",
   "execution_count": null,
   "metadata": {},
   "outputs": [],
   "source": []
  }
 ],
 "metadata": {
  "kernelspec": {
   "display_name": "Python 3",
   "language": "python",
   "name": "python3"
  },
  "language_info": {
   "codemirror_mode": {
    "name": "ipython",
    "version": 3
   },
   "file_extension": ".py",
   "mimetype": "text/x-python",
   "name": "python",
   "nbconvert_exporter": "python",
   "pygments_lexer": "ipython3",
   "version": "3.6.5"
  },
  "varInspector": {
   "cols": {
    "lenName": 16,
    "lenType": 16,
    "lenVar": 40
   },
   "kernels_config": {
    "python": {
     "delete_cmd_postfix": "",
     "delete_cmd_prefix": "del ",
     "library": "var_list.py",
     "varRefreshCmd": "print(var_dic_list())"
    },
    "r": {
     "delete_cmd_postfix": ") ",
     "delete_cmd_prefix": "rm(",
     "library": "var_list.r",
     "varRefreshCmd": "cat(var_dic_list()) "
    }
   },
   "types_to_exclude": [
    "module",
    "function",
    "builtin_function_or_method",
    "instance",
    "_Feature"
   ],
   "window_display": false
  }
 },
 "nbformat": 4,
 "nbformat_minor": 2
}
