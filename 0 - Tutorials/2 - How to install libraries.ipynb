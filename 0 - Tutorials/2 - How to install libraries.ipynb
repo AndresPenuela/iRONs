{
 "cells": [
  {
   "cell_type": "markdown",
   "metadata": {},
   "source": [
    "# How to install libraries\n",
    "\n",
    "Libraries are installed through the Anaconda Prompt (Windows) or the OS Terminal (Mac and Linux).\n",
    "\n",
    "Before installing any library, make sure that the installer (conda/pip) is installed and updated.\n",
    "\n",
    "If Jupyter Notebook was already open, after installing any library, the kernel must be updated for the installation to be effective."
   ]
  },
  {
   "cell_type": "markdown",
   "metadata": {},
   "source": [
    "# How to open the Anaconda Prompt and update conda\n",
    "\n",
    "Open the Prompt from the Windows menu (or a OS Terminal in Mac and Linux), and then run:\n",
    "\n",
    "> conda update conda\n",
    "\n",
    "or \n",
    "\n",
    "> C:\\ProgramData\\Anaconda3\\Scripts\\conda update conda\n",
    "\n",
    "<right> <img src=\"Videos/Executing Anaconda Prompt and Conda.gif\" width = \"1000px\"><right>"
   ]
  },
  {
   "cell_type": "markdown",
   "metadata": {},
   "source": [
    "# How to restart the kernel in Jupyter Notbook"
   ]
  },
  {
   "cell_type": "markdown",
   "metadata": {},
   "source": [
    "<right> <img src=\"Videos/Restarting kernel.gif\" width = \"1000px\"><right>"
   ]
  },
  {
   "cell_type": "markdown",
   "metadata": {},
   "source": [
    "# How to install the library Netcdf4 \n",
    "\n",
    "\n",
    "1) Open the Anaconda Prompt (or the OS Terminal) and run:\n",
    "\n",
    "> conda install -c anaconda netcdf4 \n",
    "\n",
    "2) Either open Jupyter Notebook or restart the kernel"
   ]
  },
  {
   "cell_type": "markdown",
   "metadata": {},
   "source": [
    "# How to install the library Bqplot\n",
    "\n",
    "In order to install this library first we need to make sure that the installer (pip) is updated:\n",
    "\n",
    "1) Open the Anaconda Prompt (or the OS Terminal) and run:\n",
    "\n",
    "> pip install --upgrade pip\n",
    "\n",
    "On Windows the recommended command is:\n",
    "\n",
    "> python -m pip install --upgrade pip\n",
    "\n",
    "2) When the install process has finished, install the Bqplot library by running this at the Anaconda Prompt:\n",
    "\n",
    "> pip install traittypes\n",
    "\n",
    "> conda config --add channels conda-forge\n",
    "\n",
    "> conda install bqplot\n",
    "\n",
    "> conda install bqplot_extra\n",
    "\n",
    "3) Either open Jupyter Notebook or restart the kernel"
   ]
  },
  {
   "cell_type": "markdown",
   "metadata": {
    "collapsed": true
   },
   "source": [
    "# How to install the library Platypus\n",
    "\n",
    "1) Open the Anaconda Prompt (or the OS Terminal in the case of Mac computers) and run:\n",
    "\n",
    "> conda config --add channels conda-forge\n",
    "\n",
    "> conda install platypus-opt\n",
    "\n",
    "\n",
    "2) Either open Jupyter Notebook or restart the kernel"
   ]
  },
  {
   "cell_type": "code",
   "execution_count": null,
   "metadata": {
    "collapsed": true
   },
   "outputs": [],
   "source": []
  }
 ],
 "metadata": {
  "kernelspec": {
   "display_name": "Python 3",
   "language": "python",
   "name": "python3"
  },
  "language_info": {
   "codemirror_mode": {
    "name": "ipython",
    "version": 3
   },
   "file_extension": ".py",
   "mimetype": "text/x-python",
   "name": "python",
   "nbconvert_exporter": "python",
   "pygments_lexer": "ipython3",
   "version": "3.6.5"
  }
 },
 "nbformat": 4,
 "nbformat_minor": 2
}
