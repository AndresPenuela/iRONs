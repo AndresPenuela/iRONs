{
 "cells": [
  {
   "cell_type": "markdown",
   "metadata": {
    "slideshow": {
     "slide_type": "-"
    }
   },
   "source": [
    "# Operation of a reservoir system\n",
    "In this section the concepts of hedging rule, control curve and objective tradeoff in operation of a water reservoir system will be introduced by means of practical and interactive examples.\n",
    "\n",
    "<left><img src=\"Images/Dam2.gif\" width = \"600px\"><left>"
   ]
  },
  {
   "cell_type": "markdown",
   "metadata": {},
   "source": [
    "## Simulation of a reservoir with a single natural inflow and a human demand outflow\n",
    "The reservoir system used in this case study is a single reservoir system. The reservoir has a storage capacity of 150 Ml. The reservoir is required to meet both human demand and to make environmental compensation releases.\n",
    "\n",
    "Assuming perfect 8-week inflow, temperature and demand forecasts, you should define an optimal weekly release policy."
   ]
  },
  {
   "cell_type": "markdown",
   "metadata": {},
   "source": [
    "<left> <img src=\"Images/system_representation1.png\" width = \"600px\"><left>"
   ]
  },
  {
   "cell_type": "markdown",
   "metadata": {},
   "source": [
    "### Inputs:\n",
    "\n",
    "#### Variables:\n",
    "\n",
    "$T$ = simulation time, in number of weeks\n",
    "\n",
    "$I$ = natural reservoir inflows, in ML/week (Vector of length T)\n",
    "\n",
    "$E$ = evaporation volume, in ML/week (Vector of length T)\n",
    "\n",
    "$d$ = demand, in ML/week (Vector of length T)\n",
    "\n",
    "#### Initial conditions:\n",
    "\n",
    "$S_0$ = inital reservoir storage volume, in ML\n",
    "\n",
    "#### Constraints:\n",
    "\n",
    "$S_{max}$ = max reservoir storage volume, in ML\n",
    "\n",
    "$S_{min}$ = min reservoir storage volume, in ML\n",
    "\n",
    "$env_{min}$ = required environmental compensation flow, in ML/week"
   ]
  },
  {
   "cell_type": "markdown",
   "metadata": {},
   "source": [
    "### Outputs:\n",
    "\n",
    "$S$ = reservoir storage, in ML (Vector of length T)\n",
    "\n",
    "##### Gravity outflows\n",
    "$u$ = reservoir controlled releases for water supply, in ML/week (Vector of length T)\n",
    "\n",
    "$w$ = spillways, in ML/week (Vector of length T)\n",
    "\n",
    "$env$ = environmental compensation outflow, in ML/week"
   ]
  },
  {
   "cell_type": "markdown",
   "metadata": {},
   "source": [
    "<left> <img src=\"Images/system_representation_IO1.png\" width = \"600px\"><left>"
   ]
  },
  {
   "cell_type": "markdown",
   "metadata": {},
   "source": [
    "### Simulation model of the system\n",
    "First of all, we need to import the necessary libraries to run the model."
   ]
  },
  {
   "cell_type": "code",
   "execution_count": 1,
   "metadata": {},
   "outputs": [],
   "source": [
    "from bqplot import pyplot as plt\n",
    "from bqplot import *\n",
    "from bqplot.traits import *\n",
    "import numpy as np\n",
    "import ipywidgets as widgets\n",
    "from IPython.display import display\n",
    "from Subroutines.Interactive_policy import Interactive_policy_single,Interactive_policy_double, Interactive_Pareto_front"
   ]
  },
  {
   "cell_type": "markdown",
   "metadata": {},
   "source": [
    "#### Inputs definition\n",
    "**1. Simulation time:** we introduce the number of weeks ($simtime$) that we would like to simulate. In this case 8 weeks."
   ]
  },
  {
   "cell_type": "code",
   "execution_count": 2,
   "metadata": {},
   "outputs": [],
   "source": [
    "simtime = 8"
   ]
  },
  {
   "cell_type": "markdown",
   "metadata": {},
   "source": [
    "**2. Inputs:** forecast of weekly natural inflows ($I$), evaporation ($E$), temperature ($T$) and water demand ($d$). In this example we will manually define them by creating arrays of lenght equal to the simulation time (8)."
   ]
  },
  {
   "cell_type": "code",
   "execution_count": 3,
   "metadata": {},
   "outputs": [],
   "source": [
    "### Forcing inputs ###\n",
    "  # Natural inflows forecast\n",
    "I = np.array([15,17,19,11,9,4,3,8]) # in ML/week\n",
    "  # Temperature forecast\n",
    "T = np.array([13,13,17,18,20,22,25,26]) # in degC\n",
    "  # Evaporation forecast\n",
    "E = T*0.1 # in ML/week. Evaporation is estimated as a function of the temperature in a simplistic way \n",
    "# (transformation factor = 0.1) just to reflect their interaction.\n",
    "  # Water demand forecast\n",
    "d = np.array([15]*simtime)*T/15 # in ML/week. Evaporation is estimated as a function of the temperature in a simplistic way \n",
    "# (transformation factor = 0.1) just to reflect their interaction."
   ]
  },
  {
   "cell_type": "markdown",
   "metadata": {},
   "source": [
    "Plot of the forecasted weekly inflows"
   ]
  },
  {
   "cell_type": "code",
   "execution_count": 4,
   "metadata": {},
   "outputs": [
    {
     "data": {
      "application/vnd.jupyter.widget-view+json": {
       "model_id": "31fc1bd01769436cbb195d8e70096a0e",
       "version_major": 2,
       "version_minor": 0
      },
      "text/plain": [
       "VBox(children=(Figure(axes=[Axis(label='week', scale=LinearScale()), Axis(label='ML/week', orientation='vertic…"
      ]
     },
     "metadata": {},
     "output_type": "display_data"
    }
   ],
   "source": [
    "# Axis characterisitcs\n",
    "x_sc_1 = LinearScale();y_sc_1 = LinearScale(min=0,max=35)\n",
    "x_ax_1 = Axis(label='week', scale=x_sc_1);y_ax_1 = Axis(label='ML/week', scale=y_sc_1, orientation='vertical')\n",
    "# Bar plot\n",
    "inflow_plot = plt.bar(np.arange(1,simtime+1),I,colors=['blue'],stroke = 'lightgray',scales={'x': x_sc_1, 'y': y_sc_1},\n",
    "                      labels = ['inflow'], display_legend = True)\n",
    "#Figure characteristics\n",
    "fig_1a = plt.Figure(marks = [inflow_plot],title = 'Inflow forecast for the next 8 weeks', axes=[x_ax_1, y_ax_1],\n",
    "                    layout={'min_width': '1000px', 'max_height': '300px'}, legend_style = {'fill': 'white', 'opacity': 0.5})\n",
    "widgets.VBox([fig_1a])"
   ]
  },
  {
   "cell_type": "code",
   "execution_count": 5,
   "metadata": {},
   "outputs": [
    {
     "data": {
      "application/vnd.jupyter.widget-view+json": {
       "model_id": "1a1d18f89d33483ba9826dfae2fb7857",
       "version_major": 2,
       "version_minor": 0
      },
      "text/plain": [
       "VBox(children=(Figure(axes=[Axis(label='week', scale=LinearScale(), side='bottom'), Axis(label='ML/week', orie…"
      ]
     },
     "metadata": {},
     "output_type": "display_data"
    }
   ],
   "source": [
    "# Bar plot (we use the same axis as the weekly inflows figure)\n",
    "demand_plot   = plt.bar(np.arange(1,simtime+1),d,colors=['gray'],stroke = 'lightgray',opacities = [0.7]*simtime, \n",
    "                        labels = ['demand'], display_legend = True, \n",
    "                    stroke_width = 1,scales={'x': x_sc_1, 'y': y_sc_1})\n",
    "#Figure characteristics\n",
    "fig_1b = plt.Figure(marks = [demand_plot],title = 'Demand forecast for the next 8 weeks', axes=[x_ax_1, y_ax_1],\n",
    "                    layout={'min_width': '1000px', 'max_height': '300px'}, legend_style = {'fill': 'white', 'opacity': 0.5})\n",
    "widgets.VBox([fig_1b])"
   ]
  },
  {
   "cell_type": "markdown",
   "metadata": {},
   "source": [
    "**3. Initial conditions:** initial reservoir storage volume."
   ]
  },
  {
   "cell_type": "code",
   "execution_count": 6,
   "metadata": {},
   "outputs": [],
   "source": [
    "### Initial conditions ###\n",
    "  # Initial storage volume\n",
    "S0 = 80 # in ML"
   ]
  },
  {
   "cell_type": "markdown",
   "metadata": {},
   "source": [
    "**4. System constraints:** Now we define the constraints of the system such as the reservoir storage capacity or the minimum environmental flow. *But what is the environmental flow? [Learn more about the environmental flow.](https://www.youtube.com/watch?v=cbUrrYq9BmU)*"
   ]
  },
  {
   "cell_type": "code",
   "execution_count": 7,
   "metadata": {},
   "outputs": [],
   "source": [
    "### Constraints ###\n",
    "  # Max storage volume\n",
    "Smax = 150 #  in ML\n",
    "  # Min storage volume\n",
    "Smin = 0 # in ML\n",
    "  # Min environmental compensation flow\n",
    "env_min = 2 # in ML/week"
   ]
  },
  {
   "cell_type": "markdown",
   "metadata": {},
   "source": [
    "#### System model definition"
   ]
  },
  {
   "cell_type": "code",
   "execution_count": 8,
   "metadata": {
    "code_folding": []
   },
   "outputs": [],
   "source": [
    "def syst_sim(simtime,I,E,d,S0,Smax,env_min,u):\n",
    "\n",
    "    # Declare output variables\n",
    "\n",
    "    S = [0]*(simtime+1) # reservoir storage in ML\n",
    "\n",
    "    w = [0]*(simtime) # spillage in ML\n",
    "\n",
    "    env = [env_min]*(simtime) # environmental compensation flow\n",
    "    \n",
    "    S[0] = S0 # initial storage\n",
    "\n",
    "    for t in range(simtime): # Loop for each time-step (week)\n",
    "\n",
    "        # If at week t the inflow (I) is lower than the minimum environmental compensation (env_min), \n",
    "        # then the environmental compensation (env) = inflow (I)  \n",
    "        if env_min >= I[t] :\n",
    "            env[t] = I[t]\n",
    "        # If the minimum environmental compensation is higher than the water resource available (S + I - E)\n",
    "        # then the environmental compensation is equal to the higher value between 0 and the resource available\n",
    "        if env_min >= S[t] + I[t] - E[t]:\n",
    "            env[t] = max(0,S[t] + I[t] - E[t]) \n",
    "        # If the demand is higher than the water resource available (S + I - E - env)\n",
    "        # then the release for water supply is equal to the higher value between 0 and the resource available            \n",
    "        if d[t] >= S[t] + I[t] - E[t] - env[t]:\n",
    "            u[t] = min(u[t],max(0,S[t] + I[t] - E[t] - env[t]))\n",
    "        # The spillage is equal to the higher value between 0 and the resource available exceeding the reservoir capacity\n",
    "        w[t] = max(0,S[t] + I[t] - u[t] - env[t] - E[t] - Smax)\n",
    "        # The final storage (initial storage in the next step) is equal to the storage + inflow - outflows\n",
    "        S[t+1] = S[t] + I[t] - u[t] - env[t]- E[t] - w[t]\n",
    "        \n",
    "    return S,env,w,u"
   ]
  },
  {
   "cell_type": "markdown",
   "metadata": {},
   "source": [
    "## Water system operation: manual optimization approach\n",
    "### Hedging rule\n",
    "\n",
    "In the following example, given the forecasted water inflow ($I$) and demand ($d$) for the next 8 weeks, try to meet the weekly demand by increasing the weekly controlled releases ($u$) using the sliders. First try to meet the demand for the whole period. You will see that, it is possible to fully meet the demand for the first 7 weeks but not in the last week, causing severe deficits. "
   ]
  },
  {
   "cell_type": "code",
   "execution_count": 9,
   "metadata": {},
   "outputs": [
    {
     "data": {
      "application/vnd.jupyter.widget-view+json": {
       "model_id": "faeccaa1debc4da3a6ae0daf834bec56",
       "version_major": 2,
       "version_minor": 0
      },
      "text/plain": [
       "VBox(children=(Figure(animation_duration=1000, axes=[Axis(label='week', scale=LinearScale(max=8.0, min=0.0), t…"
      ]
     },
     "metadata": {},
     "output_type": "display_data"
    }
   ],
   "source": [
    "# Interactive release policy\n",
    "fig_2a,fig_2b,release1,release2,release3,release4,release5,release6,release7,release8 = Interactive_policy_single(simtime,I,E,d,S0,Smax,env_min, demand_plot)\n",
    "HBox_layout = widgets.Layout(justify_content='center')\n",
    "widgets.VBox([fig_2a,fig_2b,widgets.HBox([release1,release2,release3,release4,release5,release6,release7,release8],layout=HBox_layout)])"
   ]
  },
  {
   "cell_type": "markdown",
   "metadata": {},
   "source": [
    "An operating rule that places more penalties on large deficits than small ones is called Hedging Rule. If the reservoir system manager tries to meet the demand fully during early months of a period, the manager may incur severe deficits on later periods. In order to prevent severe deficit in the later period, the manager can tolerate some deficit during release periods.\n",
    "\n",
    "Now, try to find better solution by minimizing the severity of the water deficit, represented by the water supply deficit penalty ($sdpen$) and estimated by the following equation:\n",
    "\n",
    "$$sdpen = \\sum_{n=1}^{N} max(d(t)-u(t),0)^{2}$$\n",
    "\n",
    "where $n$ is the week number and $N$ is the total number of weeks.\n",
    "\n",
    "The record is **49, try to beat it!**"
   ]
  },
  {
   "cell_type": "markdown",
   "metadata": {},
   "source": [
    "### From single to multi- objective optimization\n",
    "A minimum storage threshold can be defined, below which, the quality of water or the reservoir recrational uses can be seriouly affected.\n",
    "In our case we manually define the minimum storage as an array of length 8 weeks:"
   ]
  },
  {
   "cell_type": "code",
   "execution_count": 10,
   "metadata": {},
   "outputs": [],
   "source": [
    "# Minimum storage threshold\n",
    "ms = np.array([30,30,30,30,30,30,30,30,30]) # in ML"
   ]
  },
  {
   "cell_type": "markdown",
   "metadata": {},
   "source": [
    "It can happen that due to specific conditions like low inflows, minimum requirements for demands etc. it is not possible to keep the storage volume over the minimum. \n",
    "\n",
    "Now in the following example try not only to meet the demand but also keep the storage level above the minimum threshold. The penalty applied when the storage lower than the minimum threshold ($lspen$) is estimated by:\n",
    "\n",
    "$$lspen = \\sum_{n=1}^{N} max ( rc(t) - S(t), 0)$$\n",
    "\n",
    "Try to obtain the minimum supply deficit with no low storage penalty. The record is **305, try to beat it!**."
   ]
  },
  {
   "cell_type": "code",
   "execution_count": 11,
   "metadata": {},
   "outputs": [
    {
     "data": {
      "application/vnd.jupyter.widget-view+json": {
       "model_id": "38bc33d2689f4df0a409323a3b3be5ca",
       "version_major": 2,
       "version_minor": 0
      },
      "text/plain": [
       "VBox(children=(Figure(animation_duration=1000, axes=[Axis(label='week', scale=LinearScale(max=8.0, min=0.0), t…"
      ]
     },
     "metadata": {},
     "output_type": "display_data"
    }
   ],
   "source": [
    "fig_3a,fig_3b,release1,release2,release3,release4,release5,release6,release7,release8 = Interactive_policy_double(simtime,I,E,d,S0,Smax,ms,env_min, demand_plot)\n",
    "HBox_layout = widgets.Layout(justify_content='center')\n",
    "widgets.VBox([fig_3a,fig_3b,widgets.HBox([release1,release2,release3,release4,release5,release6,release7,release8],layout=HBox_layout)])"
   ]
  },
  {
   "cell_type": "markdown",
   "metadata": {},
   "source": [
    "## Water system operation: automatic optimization approach\n",
    "Depending on the decision maker priority or the characteristics of our system one may select a different policy that for example, prioritizes the minimization of the supply deficit rather than the storage level. As we have seen, when we prioritize one objective the other one is usually deteriorated, this is what we call trade-off. In order to explore possible combinations of weekly releases and the obtained trade-off between objectives a more efficient procedure than manually is needed. By combining simulation and automatic optimization, we can obtain a representative set of optimal policies without having to consider all possible combinations of alternatives.\n",
    "#### Algorithm to combine simulation and optimization"
   ]
  },
  {
   "cell_type": "code",
   "execution_count": 12,
   "metadata": {
    "code_folding": []
   },
   "outputs": [],
   "source": [
    "# Optimizer\n",
    "from platypus import NSGAII, Problem, Real, Integer\n",
    "\n",
    "def auto_optim(vars):\n",
    "    release1 = vars[0]\n",
    "    release2 = vars[1]\n",
    "    release3 = vars[2]\n",
    "    release4 = vars[3]\n",
    "    release5 = vars[4]\n",
    "    release6 = vars[5]\n",
    "    release7 = vars[6]\n",
    "    release8 = vars[7]\n",
    "\n",
    "    u = [release1,release2,release3,release4,release5,release6,release7,release8]\n",
    "    S,env,w,u = syst_sim(simtime,I,E,d,S0,Smax,env_min,u)\n",
    "    \n",
    "    sdpen = (np.sum((np.maximum(d-u,[0]*simtime))**2)).astype('int')\n",
    "    lspen = (np.sum((np.maximum(ms-S,[0]*(simtime+1))))).astype('int')\n",
    "    \n",
    "    return [sdpen,lspen]\n",
    "\n",
    "problem = Problem(simtime,2)\n",
    "Real0 = Real(0, 40);Real1 = Real(0, 40);Real2 = Real(0, 40);Real3 = Real(0, 40);Real4 = Real(0, 40);Real5 = Real(0, 40);Real6 = Real(0, 40);Real7 = Real(0, 40)\n",
    "\n",
    "problem.types[:] = [Real0] + [Real1] + [Real2] + [Real3] + [Real4] + [Real5] + [Real6] + [Real7] \n",
    "problem.function = auto_optim\n",
    "\n",
    "population_size = 20\n",
    "algorithm = NSGAII(problem,population_size)\n",
    "algorithm.run(10000) # Number of iterations\n",
    "\n",
    "results1_optim_relea = np.array([algorithm.result[i].objectives[0] for i in range(population_size)])\n",
    "results2_optim_relea = np.array([algorithm.result[i].objectives[1] for i in range(population_size)])\n",
    "\n",
    "solutions_optim_relea = [algorithm.result[i].variables[0:8] for i in range(population_size)]"
   ]
  },
  {
   "cell_type": "markdown",
   "metadata": {},
   "source": [
    "#### Plot the Pareto front\n",
    "In order to facilitate the decision-making process the Pareto front or tradeoff curve supplies a representation of a set of optimal solutions. The Pareto front gives full information on objective values and on objective tradeoffs, which inform how improving one objective is related to deteriorating the second one while moving along the tradeoff curve. Click on the Pareto front points and try to find the most balanced approach according to your criteria."
   ]
  },
  {
   "cell_type": "code",
   "execution_count": 13,
   "metadata": {
    "scrolled": false
   },
   "outputs": [
    {
     "data": {
      "application/vnd.jupyter.widget-view+json": {
       "model_id": "499c4def4cca460a877dcb40bc1f0557",
       "version_major": 2,
       "version_minor": 0
      },
      "text/plain": [
       "VBox(children=(HBox(children=(VBox(children=(Figure(animation_duration=1000, axes=[Axis(label='week', scale=Li…"
      ]
     },
     "metadata": {},
     "output_type": "display_data"
    }
   ],
   "source": [
    "# Interactive Pareto front\n",
    "fig_4a,fig_4b,fig_pf = Interactive_Pareto_front(simtime,I,E,d,S0,Smax,ms,env_min, demand_plot,solutions_optim_relea,results1_optim_relea,results2_optim_relea)\n",
    "widgets.VBox([widgets.HBox([widgets.VBox([fig_4a,fig_4b]),fig_pf])])"
   ]
  },
  {
   "cell_type": "markdown",
   "metadata": {},
   "source": [
    "#### Let's go to the next section!: [Reservoir operation under uncertainty](../3%20-%20Reservoir%20operation/Reservoir%20operation%20under%20uncertainty.ipynb)"
   ]
  },
  {
   "cell_type": "code",
   "execution_count": null,
   "metadata": {},
   "outputs": [],
   "source": []
  }
 ],
 "metadata": {
  "kernelspec": {
   "display_name": "Python 3",
   "language": "python",
   "name": "python3"
  },
  "language_info": {
   "codemirror_mode": {
    "name": "ipython",
    "version": 3
   },
   "file_extension": ".py",
   "mimetype": "text/x-python",
   "name": "python",
   "nbconvert_exporter": "python",
   "pygments_lexer": "ipython3",
   "version": "3.6.5"
  }
 },
 "nbformat": 4,
 "nbformat_minor": 2
}
