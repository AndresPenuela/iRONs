{
 "cells": [
  {
   "cell_type": "markdown",
   "metadata": {},
   "source": [
    "# Rule curve - optimising the reservoir operating policy\n",
    "## Reservoir system\n",
    "\n",
    "<left><img src=\"Images/System 1 layout.png\" width = \"500px\"><left>\n",
    "## 0. Import libraries\n",
    "To run this Notebook we need to import some necessary libraries. **Only if iRONs is run locally**: since one required library, [plotly](https://plot.ly/), is not available on Anaconda by default, you must have installed it first. Help on how to install libraries is given here: [How to install libraries](../0%20-%20Tutorials/0.b%20-%20How%20to%20install%20libraries.ipynb). If iRONs is run on the cloud, e.g. on [Binder](https://mybinder.org/) or [Microsoft Azure Notebooks](https://notebooks.azure.com/), we do not need to install the libraries to import them. \n",
    "\n",
    "Once all the necessary libraries are installed locally or in case we are running iRONs on the cloud, we import the libraries with the following code:"
   ]
  },
  {
   "cell_type": "code",
   "execution_count": 1,
   "metadata": {},
   "outputs": [],
   "source": [
    "import numpy as np\n",
    "import pandas as pd\n",
    "import plotly.graph_objs as go\n",
    "from ipywidgets import widgets\n",
    "import sys\n",
    "# Submodules\n",
    "sys.path.append('../../Submodules')\n",
    "from Operation_rules import release_rule\n",
    "from clim_dem_forecast import forecast"
   ]
  },
  {
   "cell_type": "markdown",
   "metadata": {},
   "source": [
    "## 1. Release policy\n",
    "In this notebook we will generate a rule curve for the regulated releases of the reservoir. Weekly release is scaled as a fraction of the long-term (five years or more) mean release (u_mean) while storage is scaled by the reservoir active capacity (0 at dead storage and 1 for full storage)\n",
    "### 1.1 Parameters\n",
    "Parameters that are going to define the coordinates of the points delineating the rule curve. u_min and u_max at minimum and maximum storage, u_mean is the long-term mean release and the coordinates u_ref and s_ref_1 and s_ref_2 of the (reference) inflection points."
   ]
  },
  {
   "cell_type": "code",
   "execution_count": 2,
   "metadata": {},
   "outputs": [],
   "source": [
    "# Input parameters\n",
    "u_0 = 0.2 # release fraction\n",
    "u_1 = 5 # release fraction"
   ]
  },
  {
   "cell_type": "markdown",
   "metadata": {},
   "source": [
    "### 1.2 Rule curve for regulated reservoir releases\n",
    "The rule curve is delineated by 4 points (x0, x1, x2 and x3) which are defined by the parameters set in the cell above."
   ]
  },
  {
   "cell_type": "markdown",
   "metadata": {},
   "source": [
    "Plotting the reservoir rule for regulated releases"
   ]
  },
  {
   "cell_type": "markdown",
   "metadata": {},
   "source": [
    "## 1. Inputs"
   ]
  },
  {
   "cell_type": "code",
   "execution_count": 6,
   "metadata": {},
   "outputs": [],
   "source": [
    "N = 8 # weeks\n",
    "I = np.random.normal(loc=20,scale=5,size=N)\n",
    "e = np.random.normal(loc=4,scale=1,size=N)\n",
    "s_0 = 40 # ML\n",
    "s_min = 0 # ML\n",
    "s_max = 100 # ML\n",
    "\n",
    "u_mean = 20\n",
    "\n",
    "Qreq_env = 2\n",
    "d = 25"
   ]
  },
  {
   "cell_type": "markdown",
   "metadata": {},
   "source": [
    "## 2. Simulation"
   ]
  },
  {
   "cell_type": "code",
   "execution_count": 7,
   "metadata": {},
   "outputs": [],
   "source": [
    "from Res_sys_sim import Res_sys_sim"
   ]
  },
  {
   "cell_type": "code",
   "execution_count": 8,
   "metadata": {},
   "outputs": [
    {
     "data": {
      "application/vnd.jupyter.widget-view+json": {
       "model_id": "b368515dcec44ebc9a577f9bc43eb5e2",
       "version_major": 2,
       "version_minor": 0
      },
      "text/plain": [
       "HBox(children=(VBox(children=(FloatSlider(value=1.0, continuous_update=False, description='Ref release: ', max…"
      ]
     },
     "metadata": {},
     "output_type": "display_data"
    }
   ],
   "source": [
    "def update_operating_policy(s_ref_1,s_ref_2,u_ref):\n",
    "    x0 = [0,       u_0]\n",
    "    x1 = [s_ref_1, u_ref]\n",
    "    x2 = [s_ref_2, u_ref]\n",
    "    x3 = [1,       u_1]\n",
    "    param = [x0, x1, x2, x3, u_mean]\n",
    "    u_frac = release_rule(param)/u_mean\n",
    "    reg_releases = {'file_name' : 'Operation_rules',\n",
    "                    'function' : 'release_rule',\n",
    "                    'param': param}\n",
    "\n",
    "    reg_inflows = None\n",
    "\n",
    "    reg_rel_inf = None\n",
    "\n",
    "    Qreg = {'releases' : reg_releases,\n",
    "            'inflows'  : reg_inflows,\n",
    "            'rel_inf'  : reg_rel_inf}\n",
    "    Qenv, Qspill, u, I_reg, s = Res_sys_sim(I, e, s_0, s_min, s_max, Qreq_env, d, Qreg)\n",
    "    return u_frac, Qenv, Qspill, u, I_reg, s\n",
    "\n",
    "# Function to update the figure when changing the parameters with the sliders\n",
    "def update_figure(change):\n",
    "    with fig_1.batch_animate(duration=1000):\n",
    "        fig_1.data[0].x = x\n",
    "        fig_1.data[0].y = update_operating_policy(s_ref_1.value,s_ref_2.value,u_ref.value)[0]\n",
    "        fig_1.layout.xaxis.title = 'Storage fraction'\n",
    "        fig_1.layout.yaxis.title = 'Release fraction of long term flow'\n",
    "        fig_1.layout.title = 'Operating policy for regulated releases'\n",
    "    with fig_2.batch_animate(duration=1000):\n",
    "        fig_2.data[0].x = np.arange(0,9)\n",
    "        fig_2.data[0].y = update_operating_policy(s_ref_1.value,s_ref_2.value,u_ref.value)[5]\n",
    "        fig_2.layout.xaxis.title = 'week'\n",
    "        fig_2.layout.yaxis.title = 'Storage (ML)'\n",
    "        fig_2.layout.title = 'Operating policy for regulated releases'        \n",
    "\n",
    "x = np.arange(0,1.01,0.01)\n",
    "# Definition of the sliders\n",
    "u_ref = widgets.FloatSlider(min=0.5,\n",
    "                            max=5,\n",
    "                            value=1,\n",
    "                            step=0.05,\n",
    "                            description = 'Ref release: ',\n",
    "                            continuous_update=False)\n",
    "u_ref.observe(update_figure,names = 'value')\n",
    "s_ref_1 = widgets.FloatSlider(min=0,\n",
    "                              max=0.5,\n",
    "                              value=0.25, \n",
    "                              step=0.05, \n",
    "                              description = 's_ref_1: ',\n",
    "                              continuous_update=False)\n",
    "s_ref_1.observe(update_figure,names = 'value')\n",
    "s_ref_2 = widgets.FloatSlider(min=0.5,\n",
    "                              max=1,\n",
    "                              value=0.75, \n",
    "                              step=0.05,\n",
    "                              description = 's_ref_2: ',\n",
    "                              continuous_update=False)\n",
    "s_ref_2.observe(update_figure,names = 'value')\n",
    "### Figure with one trace: release rule ###\n",
    "x0 = [0,             u_0]\n",
    "x1 = [s_ref_1.value, u_ref.value]\n",
    "x2 = [s_ref_2.value, u_ref.value]\n",
    "x3 = [1,             u_1]\n",
    "param = [x0, x1, x2, x3, u_mean]\n",
    "trace_1 = go.Scatter(x = x,\n",
    "                     y = update_operating_policy(s_ref_1.value,s_ref_2.value,u_ref.value)[0],\n",
    "                     name='Sine curve')\n",
    "trace_2 = go.Scatter(x = np.arange(0,10),\n",
    "                     y = update_operating_policy(s_ref_1.value,s_ref_2.value,u_ref.value)[5])\n",
    "fig_1 = go.FigureWidget(data=[trace_1],\n",
    "                    layout=go.Layout(\n",
    "                        xaxis = dict(\n",
    "                            range = [0,1],\n",
    "                            title = 'Storage fraction'),\n",
    "                        yaxis = dict(\n",
    "                            range = [0,5],\n",
    "                            title = 'Release fraction of long term flow'),\n",
    "                        )\n",
    "                     )\n",
    "fig_2 = go.FigureWidget(data=[trace_2],\n",
    "                    layout=go.Layout(\n",
    "                        xaxis = dict(\n",
    "                            range = [0,8],\n",
    "                            title = 'Week'),\n",
    "                        yaxis = dict(\n",
    "                            range = [0,110],\n",
    "                            title = 'Storage (ML)'),\n",
    "                        )\n",
    "                     )\n",
    "widgets.HBox([widgets.VBox([u_ref,s_ref_1,s_ref_2,fig_1]),\n",
    "              fig_2])       "
   ]
  },
  {
   "cell_type": "code",
   "execution_count": null,
   "metadata": {},
   "outputs": [],
   "source": [
    "update_operating_policy(s_ref_1.value,s_ref_2.value,u_ref.value)[3]"
   ]
  },
  {
   "cell_type": "markdown",
   "metadata": {},
   "source": [
    "## 3. Optimization of the reservoir release rule"
   ]
  },
  {
   "cell_type": "code",
   "execution_count": null,
   "metadata": {},
   "outputs": [],
   "source": [
    "# Optimizer\n",
    "from platypus import NSGAII, Problem, Real, Integer\n",
    "\n",
    "def auto_optim(vars):\n",
    "\n",
    "    u_ref   = vars[0]\n",
    "    s_ref_1 = vars[1]\n",
    "    s_ref_2 = vars[2]\n",
    "    \n",
    "    x0 = [0,       u_min/u_mean]\n",
    "    x1 = [s_ref_1, u_ref]\n",
    "    x2 = [s_ref_2, u_ref]\n",
    "    x3 = [1,       u_max/u_mean]\n",
    "\n",
    "    param = [x0, x1, x2, x3, u_mean]\n",
    "    \n",
    "    Qreg = {'releases' : {'file_name' : 'Operation_rules',\n",
    "                         'function' : 'release_rule',\n",
    "                         'param': param},\n",
    "            'inflows' : None,\n",
    "            'rel_inf' : None}\n",
    "    \n",
    "    Qenv, Qspill, u, I_reg, s = Res_sys_sim(I,e,s_0,s_min,s_max,Qreq_env,Qreq_dem,Qreg)\n",
    "    \n",
    "    g_sup = np.maximum(Qreq_dem-u,0) # supply deficit objective\n",
    "    g_res = s_max-s # resource availability objective\n",
    "    J_sup = np.mean(g_sup[1:])\n",
    "    J_res = np.mean(g_res[1:])\n",
    "    \n",
    "    constraints = [s_ref_2-s_ref_1]\n",
    "    \n",
    "    return [J_sup, J_res], constraints\n",
    "\n",
    "problem = Problem(3,2,1)\n",
    "Real0 = Real(0,u_max); Real1 = Real(0, 1); Real2 = Real(0, 1)\n",
    "\n",
    "problem.types[:] = [Real0] + [Real1] + [Real2]\n",
    "problem.constraints[:] = \">=0\"\n",
    "problem.function = auto_optim\n",
    "\n",
    "population_size = 30\n",
    "algorithm = NSGAII(problem,population_size)\n",
    "algorithm.run(1000) # Number of iterations\n",
    "\n",
    "results1_optim = np.array([algorithm.result[i].objectives[0] for i in range(population_size)])\n",
    "results2_optim = np.array([algorithm.result[i].objectives[1] for i in range(population_size)])\n",
    "\n",
    "sol_optim = [algorithm.result[i].variables for i in range(population_size)]"
   ]
  },
  {
   "cell_type": "markdown",
   "metadata": {},
   "source": [
    "### 3.1 Results"
   ]
  },
  {
   "cell_type": "code",
   "execution_count": null,
   "metadata": {},
   "outputs": [],
   "source": [
    "# First we define the traces (layers of data)\n",
    "trace_4a = go.Scatter(x       = results1_optim,\n",
    "                      y       = results2_optim,\n",
    "                      name    = None,\n",
    "                      mode    = 'markers',\n",
    "                      marker  = dict(color='black'))\n",
    "# Then the figure layout\n",
    "layout_4 = go.Layout(title  = 'Tradeoff between objectives',\n",
    "                     xaxis  = dict(showgrid=False,title = 'supply defict [ML]'),\n",
    "                     yaxis  = dict(title = 'volume to maximum capacity [ML]'),\n",
    "                     width  = 500, \n",
    "                     height = 500)\n",
    "# Finally we plot figure using the pre-defined layout and traces\n",
    "fig_4 = go.Figure(data=[trace_4a],\n",
    "                  layout = layout_4)\n",
    "fig_4"
   ]
  },
  {
   "cell_type": "code",
   "execution_count": null,
   "metadata": {},
   "outputs": [],
   "source": [
    "x = np.arange(0,1.01,0.01)\n",
    "layout_5 = go.Layout(title  = \"Reservoir rule for regulated releases\",\n",
    "                     xaxis  = dict(showgrid=False,title = 'Storage fraction'),\n",
    "                     yaxis  = dict(title = 'Release fraction of long term flow'),\n",
    "                     width  = 600, \n",
    "                     height = 500,\n",
    "                    showlegend = False)\n",
    "fig_5 = go.Figure(layout = layout_5)\n",
    "# First we define the traces (layers of data)\n",
    "\n",
    "for i in range(population_size):\n",
    "    fig_5.add_trace(go.Scatter(x = x,\n",
    "                          y       = release_rule([[0,               u_min/u_mean],\n",
    "                                                  [sol_optim[i][1], sol_optim[i][0]],\n",
    "                                                  [sol_optim[i][2], sol_optim[i][0]],\n",
    "                                                  [1,               u_max/u_mean],\n",
    "                                                  u_mean]),\n",
    "                          name    = 'rule curve '+str(i), \n",
    "                          line    = dict(color='blue', width=2)))\n",
    "fig_5"
   ]
  },
  {
   "cell_type": "code",
   "execution_count": null,
   "metadata": {},
   "outputs": [],
   "source": []
  }
 ],
 "metadata": {
  "kernelspec": {
   "display_name": "Python 3",
   "language": "python",
   "name": "python3"
  },
  "language_info": {
   "codemirror_mode": {
    "name": "ipython",
    "version": 3
   },
   "file_extension": ".py",
   "mimetype": "text/x-python",
   "name": "python",
   "nbconvert_exporter": "python",
   "pygments_lexer": "ipython3",
   "version": "3.6.5"
  },
  "varInspector": {
   "cols": {
    "lenName": 16,
    "lenType": 16,
    "lenVar": 40
   },
   "kernels_config": {
    "python": {
     "delete_cmd_postfix": "",
     "delete_cmd_prefix": "del ",
     "library": "var_list.py",
     "varRefreshCmd": "print(var_dic_list())"
    },
    "r": {
     "delete_cmd_postfix": ") ",
     "delete_cmd_prefix": "rm(",
     "library": "var_list.r",
     "varRefreshCmd": "cat(var_dic_list()) "
    }
   },
   "types_to_exclude": [
    "module",
    "function",
    "builtin_function_or_method",
    "instance",
    "_Feature"
   ],
   "window_display": false
  }
 },
 "nbformat": 4,
 "nbformat_minor": 2
}
