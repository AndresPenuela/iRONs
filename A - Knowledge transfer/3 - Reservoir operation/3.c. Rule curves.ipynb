{
 "cells": [
  {
   "cell_type": "markdown",
   "metadata": {
    "slideshow": {
     "slide_type": "-"
    }
   },
   "source": [
    "# Rule curves - optimising the reservoir operating policy\n",
    "In this Notebook we will see how simulation models and optimisation algorithms can be used to assist the **long-term operation** of a water reservoir system.\n",
    "\n",
    "<left><img src=\"Images/Dam3.gif\" width = \"500px\"><left>"
   ]
  },
  {
   "cell_type": "markdown",
   "metadata": {},
   "source": [
    "    \n",
    "## Rule curve\n",
    "In long-term operation, reservoir release policies are often defined in the form of \"rule curves\" [(Loucks et al., 1981)](https://link.springer.com/book/10.1007/978-3-319-44234-1). A rule curve generally defines a release value for a given value of storage. Usually higher storage values are associated to higher releases, e.g. for flood control purposes, and \n",
    "viceversa, e.g. if the storage is low, then less water is released to reduce the risk of future water shortages. Rule curves generally do not change from one year to the next but may vary depending on the time of year. Rule curves are typically derived from trial and error simulations that evaluate the impact of different policies on various reservoir system objectives.\n",
    "\n",
    "Once again we consider a simple illustrative system where a reservoir is operated to supply water to a domestic consumption node, while ensuring a minimum environmental flow in the downstream river (also called “environmental compensation flow”) and maintaining the water level in the reservoir within prescribed limits. We use a mathematical model to link all the key variables that represent the reservoir dynamics (inflow, storage and outflows) and use model simulation/optimisation to determine the reservoir **release policy** that given the historical inflows and water demand over the last years optimizes the system performance.\n",
    "<left> <img src=\"Images/system_representation_IO1.png\" width = \"600px\"><left>\n",
    "\n"
   ]
  },
  {
   "cell_type": "markdown",
   "metadata": {},
   "source": [
    "## Import libraries\n",
    "To run this Notebook we need to import some necessary libraries. **Only if iRONs is run locally**: since one required library, [plotly](https://plot.ly/), is not available on Anaconda by default, you must have installed it first. Help on how to install libraries is given here: [How to install libraries](../0%20-%20Tutorials/0.b%20-%20How%20to%20install%20libraries.ipynb). If iRONs is run on the cloud, e.g. on [Binder](https://mybinder.org/) or [Microsoft Azure Notebooks](https://notebooks.azure.com/), we do not need to install the libraries to import them. \n",
    "\n",
    "Once all the necessary libraries are installed locally or in case we are running iRONs on the cloud, we import the libraries with the following code:"
   ]
  },
  {
   "cell_type": "code",
   "execution_count": 1,
   "metadata": {},
   "outputs": [],
   "source": [
    "from bqplot import pyplot as plt\n",
    "from bqplot import *\n",
    "from bqplot.traits import *\n",
    "import numpy as np\n",
    "import ipywidgets as widgets\n",
    "from IPython.display import display\n",
    "from platypus import NSGAII, Problem, Real, Integer # Import the optimizer"
   ]
  },
  {
   "cell_type": "markdown",
   "metadata": {},
   "source": [
    "## Determining the release policy by trial and error (manual optimisation)\n",
    "Here we want to use the reservoir model to assist the reservoir operator in determining the best release (u) policy evaluated against the historical inflows, evaporation and water demand data. "
   ]
  },
  {
   "cell_type": "markdown",
   "metadata": {},
   "source": [
    "### Historical inflows, evaporation and water demand data\n",
    "Let's assume we want to look at the last 100 weeks (so ***N=100***). We generate the historical inflows, evaporation, regulated releases and demand data as arrays of 100 random numbers with a given mean (loc) and standard deviation (scale)."
   ]
  },
  {
   "cell_type": "code",
   "execution_count": 2,
   "metadata": {},
   "outputs": [],
   "source": [
    "N = 100 # weeks\n",
    "I_hist = np.abs(np.random.normal(loc=15,scale=10,size=N))\n",
    "e_hist = np.abs(np.random.normal(loc=4,scale=1,size=N))\n",
    "d_hist = np.abs(np.random.normal(loc=20,scale=5,size=N))\n",
    "u_hist = np.abs(np.random.normal(loc=20,scale=1,size=N))"
   ]
  },
  {
   "cell_type": "markdown",
   "metadata": {},
   "source": [
    "Plot the inflow and demand past data:"
   ]
  },
  {
   "cell_type": "code",
   "execution_count": 3,
   "metadata": {},
   "outputs": [
    {
     "data": {
      "application/vnd.jupyter.widget-view+json": {
       "model_id": "ef19ec7ba0b54547b92ff4dda66915a9",
       "version_major": 2,
       "version_minor": 0
      },
      "text/plain": [
       "VBox(children=(Figure(axes=[Axis(label='week', scale=LinearScale()), Axis(label='ML/week', orientation='vertic…"
      ]
     },
     "metadata": {},
     "output_type": "display_data"
    }
   ],
   "source": [
    "# Axis characterisitcs\n",
    "x_sc_1 = LinearScale();y_sc_1 = LinearScale(min=0,max=35)\n",
    "x_ax_1 = Axis(label='week', scale=x_sc_1);y_ax_1 = Axis(label='ML/week', scale=y_sc_1, orientation='vertical')\n",
    "# Bar plot\n",
    "inflow_plot = plt.bar(np.arange(1,N+1),I_hist,colors=['blue'],stroke = 'lightgray',scales={'x': x_sc_1, 'y': y_sc_1},\n",
    "                      labels = ['inflow'], display_legend = True)\n",
    "#Figure characteristics\n",
    "fig_1a = plt.Figure(marks = [inflow_plot],title = 'Inflow forecast for the last 100 weeks', axes=[x_ax_1, y_ax_1],\n",
    "                    layout={'min_width': '1000px', 'max_height': '300px'}, legend_style = {'fill': 'white', 'opacity': 0.5})\n",
    "widgets.VBox([fig_1a])"
   ]
  },
  {
   "cell_type": "code",
   "execution_count": 4,
   "metadata": {},
   "outputs": [
    {
     "data": {
      "application/vnd.jupyter.widget-view+json": {
       "model_id": "860e4f934ba74160b37106e72576ec2a",
       "version_major": 2,
       "version_minor": 0
      },
      "text/plain": [
       "VBox(children=(Figure(axes=[Axis(label='week', scale=LinearScale(), side='bottom'), Axis(label='ML/week', orie…"
      ]
     },
     "metadata": {},
     "output_type": "display_data"
    }
   ],
   "source": [
    "# Bar plot (we use the same axis as the weekly inflows figure)\n",
    "demand_plot   = plt.bar(np.arange(1,N+1),d_hist,colors=['gray'],stroke = 'lightgray',opacities = [0.7]*N, \n",
    "                        labels = ['demand'], display_legend = True, \n",
    "                    stroke_width = 1,scales={'x': x_sc_1, 'y': y_sc_1})\n",
    "#Figure characteristics\n",
    "fig_1b = plt.Figure(marks = [demand_plot],title = 'Demand forecast for the last 100 weeks', axes=[x_ax_1, y_ax_1],\n",
    "                    layout={'min_width': '1000px', 'max_height': '300px'}, legend_style = {'fill': 'white', 'opacity': 0.5})\n",
    "widgets.VBox([fig_1b])"
   ]
  },
  {
   "cell_type": "markdown",
   "metadata": {},
   "source": [
    "### Definition of other input parameters\n",
    "Let's define other variables that are needed for the reservoir system simulation, such as the reservoir storage capacity, the environmental compensation flow, etc."
   ]
  },
  {
   "cell_type": "code",
   "execution_count": 5,
   "metadata": {},
   "outputs": [],
   "source": [
    "### Constraints ###\n",
    "s_max = 150 #  (ML) Maximum storage (=reservoir capacity)\n",
    "s_min = 0 # (ML) Minimum storage (set to zero for now)\n",
    "u_max = 60 # (ML/week) Maximum release capacity\n",
    "env_min = 2 # (ML/week)   # Environmental compensation flow\n",
    "\n",
    "### Initial conditions ###\n",
    "s_0 = 80 # (ML) # Storage volume at the beginning of the simulation period"
   ]
  },
  {
   "cell_type": "markdown",
   "metadata": {},
   "source": [
    "### Rule curve\n",
    "The rule curve is delineated by 4 points: x0, x1, x2 and x3."
   ]
  },
  {
   "cell_type": "code",
   "execution_count": 80,
   "metadata": {},
   "outputs": [],
   "source": [
    "u_mean = np.mean(u_hist)# mean historical release\n",
    "u_0 = env_min/u_mean # release fraction at the minimum storage level (= environmental flow / mean release)\n",
    "u_1 = u_max/u_mean # release at the maximum storage level (= max release capacity / mean release)"
   ]
  },
  {
   "cell_type": "markdown",
   "metadata": {},
   "source": [
    "### Implementation of the reservoir simulation function\n",
    "Here we define a function that implements the reservoir simulation, that is, iteratively apply the mass balance equation and reconstruct the temporal evolution of the reservoir variables over the simulation period"
   ]
  },
  {
   "cell_type": "code",
   "execution_count": 7,
   "metadata": {},
   "outputs": [],
   "source": [
    "import sys\n",
    "# Submodules\n",
    "sys.path.append('../../Submodules')\n",
    "from Res_sys_sim import Res_sys_sim\n",
    "from Operation_rules import release_rule"
   ]
  },
  {
   "cell_type": "markdown",
   "metadata": {},
   "source": [
    "Let's assume that, we are interested in minimising the deficit with respect to a historical water demand, that is, to minimise the objective function:\n",
    "\n",
    "$$TSD = \\sum_{t=1}^{N} [ \\ max( \\ 0, \\ d(t)-u(t) \\ ) \\ ]^2 $$\n",
    "\n",
    "where N is the length of the simulation period that we are considering, and d(t) is the water demand for each time-interval in that period, and TSD stands for Total Squared Deficit. Notice that the function $max(0,...)$ enables us to only count the difference between demand d and release u when this is positive, that is, when the release u is smaller than the demand d, and a water shortage is indeed produced. Also, the squaring is a 'mathematical trick' to make sure that larger deficit amounts are given more weight than smaller ones. This translates the fact that small deficit amounts are easier to mitigate and hence more acceptable, while larger ones can cause disproportionately severe impacts and should be avoided as much as possible.\n",
    "\n",
    "We are also interested in minimising the chances that the reservoir level go below a minimum threshold. This could be for example, because the quality of the water deteriorates when levels are low, requiring more costly treatment. We measure how well this criterion is satisfied by the following objective function:\n",
    "\n",
    "$$MSV = \\sum_{t=1}^{N} [ \\ max ( \\ rc - s(t) , \\ 0) \\ ] $$\n",
    "\n",
    "where, again, N is the length of the simulation period, s is the reservoir storage, and rc is the minimum reservoir storage threshold that should preferably not be transpassed (MSV stands for Minimum Storage Violation). \n",
    "\n",
    "For our case, let's set this threshold to 30 ML."
   ]
  },
  {
   "cell_type": "code",
   "execution_count": 46,
   "metadata": {},
   "outputs": [],
   "source": [
    "rc = np.array([50]*(N+1)) # (ML)  minimum reservoir storage threshold"
   ]
  },
  {
   "cell_type": "markdown",
   "metadata": {},
   "source": [
    "### Determining the optimal release scheduling via interactive visualisation\n",
    "\n",
    "Now use the sliders to modify the release policy delineated by the rule curve, in a way that minimises the Minimum Storage Violation."
   ]
  },
  {
   "cell_type": "markdown",
   "metadata": {},
   "source": [
    "Function to update the release policy when changing the parameters with the sliders"
   ]
  },
  {
   "cell_type": "code",
   "execution_count": 114,
   "metadata": {},
   "outputs": [],
   "source": [
    "def update_operating_policy_1a(s_ref_1,s_ref_2,u_ref):\n",
    "    if s_ref_1 > s_ref_2:\n",
    "        s_ref_1 = s_ref_2   \n",
    "    x0 = [0,       u_0]\n",
    "    x1 = [s_ref_1, u_ref]\n",
    "    x2 = [s_ref_2, u_ref]\n",
    "    x3 = [1,       u_1]\n",
    "    param = [x0, x1, x2, x3, u_mean]\n",
    "    u_frac = release_rule(param)/u_mean\n",
    "\n",
    "    return u_frac"
   ]
  },
  {
   "cell_type": "code",
   "execution_count": 115,
   "metadata": {},
   "outputs": [],
   "source": [
    "def update_operating_policy_1b(s_ref_1,s_ref_2,u_ref):\n",
    "    if s_ref_1 > s_ref_2:\n",
    "        s_ref_1 = s_ref_2   \n",
    "    x0 = [0,       u_0]\n",
    "    x1 = [s_ref_1, u_ref]\n",
    "    x2 = [s_ref_2, u_ref]\n",
    "    x3 = [1,       u_1]\n",
    "    param = [x0, x1, x2, x3, u_mean]\n",
    "    u_frac = release_rule(param)/u_mean\n",
    "    \n",
    "    reg_releases = {'file_name' : 'Operation_rules',\n",
    "                    'function'  : 'release_rule',\n",
    "                    'param'     : param}\n",
    "    reg_inflows = []\n",
    "    reg_rel_inf = []\n",
    "\n",
    "    Qreg = {'releases' : reg_releases,\n",
    "            'inflows'  : reg_inflows,\n",
    "            'rel_inf'  : reg_rel_inf}\n",
    "    \n",
    "    Qenv, Qspill, u, I_reg, s = Res_sys_sim(I_hist, e_hist, s_0, s_min, s_max, env_min, d_hist, Qreg)\n",
    "    \n",
    "    TSD = (np.sum((np.maximum(d_hist-u,[0]*N))**2)).astype('int')\n",
    "    fig_1b.title = 'Supply vs Demand - TSD = '+str(TSD)+' ML^2'\n",
    "\n",
    "    return u_frac, Qenv, Qspill, u, I_reg, s"
   ]
  },
  {
   "cell_type": "code",
   "execution_count": 116,
   "metadata": {},
   "outputs": [],
   "source": [
    "def update_operating_policy_1c(s_ref_1,s_ref_2,u_ref):\n",
    "    if s_ref_1 > s_ref_2:\n",
    "        s_ref_1 = s_ref_2\n",
    "    x0 = [0,       u_0]\n",
    "    x1 = [s_ref_1, u_ref]\n",
    "    x2 = [s_ref_2, u_ref]\n",
    "    x3 = [1,       u_1]\n",
    "    param = [x0, x1, x2, x3, u_mean]\n",
    "    u_frac = release_rule(param)/u_mean\n",
    "    \n",
    "    reg_releases = {'file_name' : 'Operation_rules',\n",
    "                    'function'  : 'release_rule',\n",
    "                    'param'     : param}\n",
    "    reg_inflows = []\n",
    "    reg_rel_inf = []\n",
    "\n",
    "    Qreg = {'releases' : reg_releases,\n",
    "            'inflows'  : reg_inflows,\n",
    "            'rel_inf'  : reg_rel_inf}\n",
    "    \n",
    "    Qenv, Qspill, u, I_reg, s = Res_sys_sim(I_hist, e_hist, s_0, s_min, s_max, env_min, d_hist, Qreg)\n",
    "        \n",
    "    MSV = (np.sum((np.maximum(rc-s,[0]*(N+1))))).astype('int')\n",
    "    fig_1c.title = 'Reservoir storage volume - MSV = '+str(MSV)+' ML'\n",
    "\n",
    "    return u_frac, Qenv, Qspill, u, I_reg, s"
   ]
  },
  {
   "cell_type": "markdown",
   "metadata": {},
   "source": [
    "Function to update the figures when changing the parameters with the sliders"
   ]
  },
  {
   "cell_type": "code",
   "execution_count": 117,
   "metadata": {},
   "outputs": [],
   "source": [
    "def update_figure_1(change):\n",
    "    rule_curve.y = update_operating_policy_1a(s_ref_1.value,s_ref_2.value,u_ref.value)\n",
    "    releases.y = update_operating_policy_1b(s_ref_1.value,s_ref_2.value,u_ref.value)[3]\n",
    "    storage.y = update_operating_policy_1c(s_ref_1.value,s_ref_2.value,u_ref.value)[5] "
   ]
  },
  {
   "cell_type": "markdown",
   "metadata": {},
   "source": [
    "Definition of the sliders"
   ]
  },
  {
   "cell_type": "code",
   "execution_count": 118,
   "metadata": {},
   "outputs": [],
   "source": [
    "u_ref = widgets.FloatSlider(min=0.5, max=u_1, value=1, step=0.05,\n",
    "                            description = 'u_ref: ',\n",
    "                            continuous_update = False)\n",
    "u_ref.observe(update_figure_1,names = 'value')\n",
    "\n",
    "s_ref_1 = widgets.FloatSlider(min=0, max=1, value=0.25, step=0.05, \n",
    "                              description = 's_ref_1: ',\n",
    "                              continuous_update=False)\n",
    "s_ref_1.observe(update_figure_1,names = 'value')\n",
    "\n",
    "s_ref_2 = widgets.FloatSlider(min=0, max=1, value=0.75, step=0.05,\n",
    "                              description = 's_ref_2: ',\n",
    "                              continuous_update=False)\n",
    "s_ref_2.observe(update_figure_1,names = 'value')"
   ]
  },
  {
   "cell_type": "code",
   "execution_count": 119,
   "metadata": {},
   "outputs": [],
   "source": [
    "x0 = [0,       u_0]\n",
    "x1 = [s_ref_1.value, u_ref.value]\n",
    "x2 = [s_ref_2.value, u_ref.value]\n",
    "x3 = [1,       u_1]\n",
    "param = [x0, x1, x2, x3, u_mean]\n",
    "u_frac = release_rule(param)/u_mean\n",
    "\n",
    "reg_releases = {'file_name' : 'Operation_rules',\n",
    "                'function'  : 'release_rule',\n",
    "                'param'     : param}\n",
    "reg_inflows = []\n",
    "reg_rel_inf = []\n",
    "\n",
    "Qreg = {'releases' : reg_releases,\n",
    "        'inflows'  : reg_inflows,\n",
    "        'rel_inf'  : reg_rel_inf}\n",
    "\n",
    "Qenv, Qspill, u, I_reg, s = Res_sys_sim(I_hist, e_hist, s_0, s_min, s_max, env_min, d_hist, Qreg)"
   ]
  },
  {
   "cell_type": "markdown",
   "metadata": {},
   "source": [
    "Rule curve"
   ]
  },
  {
   "cell_type": "code",
   "execution_count": 120,
   "metadata": {},
   "outputs": [],
   "source": [
    "s_frac = np.arange(0,1.01,0.01)\n",
    "\n",
    "x_sc_1a = LinearScale(min=0,max=1); y_sc_1a = LinearScale(min=0,max=u_1);\n",
    "x_ax_1a = Axis(label='Storage fraction', scale=x_sc_1a); \n",
    "y_ax_1a = Axis(label='Release fraction', scale=y_sc_1a, orientation='vertical')\n",
    "\n",
    "rule_curve           = Lines(x   = s_frac,\n",
    "                          y      = u_frac,\n",
    "                          colors = ['blue'],\n",
    "                          scales = {'x': x_sc_1a, 'y': y_sc_1a})\n",
    "\n",
    "fig_1a             = plt.Figure(marks = [rule_curve],\n",
    "                               title = 'Rule curve',\n",
    "                               axes=[x_ax_1a, y_ax_1a],\n",
    "                               layout={'width': '400px', 'height': '350px'}, \n",
    "                               animation_duration=1000,\n",
    "                               scales={'x': x_sc_1a, 'y': y_sc_1a})\n",
    "\n",
    "rule_curve.observe(update_figure_1, ['x', 'y'])"
   ]
  },
  {
   "cell_type": "markdown",
   "metadata": {},
   "source": [
    "Releases vs Demand"
   ]
  },
  {
   "cell_type": "code",
   "execution_count": 121,
   "metadata": {},
   "outputs": [],
   "source": [
    "x_sc_1b = LinearScale(min=0,max=N);         y_sc_1b = LinearScale(min=0,max=u_max);\n",
    "x_ax_1b = Axis(label='week', scale=x_sc_1b); y_ax_1b = Axis(label='ML/week', scale=y_sc_1b, orientation='vertical')\n",
    "\n",
    "demand             = Bars(x   = np.arange(1,N+1),\n",
    "                          y      = d_hist,\n",
    "                          colors = ['gray'],\n",
    "                          scales = {'x': x_sc_1b, 'y': y_sc_1b})\n",
    "\n",
    "releases           = Bars(x   = np.arange(1,N+1),\n",
    "                          y      = u,\n",
    "                          colors = ['green'],\n",
    "                          scales = {'x': x_sc_1b, 'y': y_sc_1b})\n",
    "\n",
    "TSD = (np.sum((np.maximum(d_hist-u,[0]*N))**2)).astype('int')\n",
    "\n",
    "fig_1b             = plt.Figure(marks = [demand, releases],\n",
    "                               title = 'Supply vs Demand - TSD = '+str(TSD)+' ML^2',\n",
    "                               axes=[x_ax_1b, y_ax_1b],\n",
    "                               layout={'width': '950px', 'height': '250px'}, \n",
    "                               animation_duration=1000,\n",
    "                               scales={'x': x_sc_1b, 'y': y_sc_1b})\n",
    "\n",
    "releases.observe(update_figure_1, ['x', 'y'])"
   ]
  },
  {
   "cell_type": "markdown",
   "metadata": {},
   "source": [
    "Storage"
   ]
  },
  {
   "cell_type": "code",
   "execution_count": 122,
   "metadata": {},
   "outputs": [],
   "source": [
    "x_sc_1c = LinearScale();                    y_sc_1c = LinearScale(min=0,max=200);\n",
    "x_ax_1c = Axis(label='week', scale=x_sc_1c); y_ax_1c = Axis(label='ML', scale=y_sc_1c, orientation='vertical')\n",
    "\n",
    "storage           = Lines(x      = np.arange(0,N+1),\n",
    "                          y      = s ,\n",
    "                          colors = ['blue'],\n",
    "                          scales = {'x': x_sc_1c, 'y': y_sc_1c},\n",
    "                          fill   = 'bottom',fill_opacities = [0.8],fill_colors = ['blue'])\n",
    "\n",
    "max_storage       = plt.plot(x=np.arange(0,N+1),\n",
    "                             y=[s_max]*(N+1),\n",
    "                             colors=['red'],\n",
    "                             scales={'x': x_sc_1c, 'y': y_sc_1c})\n",
    "\n",
    "max_storage_label = plt.label(text = ['Max storage'], \n",
    "                              x=[0],\n",
    "                              y=[s_max+15],\n",
    "                              colors=['red'])\n",
    "\n",
    "min_storage = plt.plot(np.arange(0,N+1),rc,\n",
    "                         scales={'x': x_sc_1c, 'y': y_sc_1c},\n",
    "                         colors=['red'],opacities = [1],\n",
    "                         line_style = 'dashed',\n",
    "                         fill = 'bottom',fill_opacities = [0.4],fill_colors = ['red'], stroke_width = 1)\n",
    "min_storage_label = plt.label(text = ['Min storage'], \n",
    "                                x=[0],\n",
    "                                y=[rc[0]-10],\n",
    "                                colors=['red'])\n",
    "\n",
    "MSV = (np.sum((np.maximum(rc-s,[0]*(N+1))))).astype('int')\n",
    "\n",
    "fig_1c             = plt.Figure(marks = [storage,max_storage,max_storage_label,\n",
    "                                        min_storage,min_storage_label],\n",
    "                               title = 'Reservoir storage volume - MSV = '+str(MSV)+' ML',\n",
    "                               axes=[x_ax_1c, y_ax_1c],\n",
    "                               layout={'width': '950px', 'height': '250px'}, \n",
    "                               animation_duration=1000,\n",
    "                               scales={'x': x_sc_1c, 'y': y_sc_1c})\n",
    "\n",
    "storage.observe(update_figure_1, ['x', 'y'])"
   ]
  },
  {
   "cell_type": "markdown",
   "metadata": {},
   "source": [
    "Plot"
   ]
  },
  {
   "cell_type": "code",
   "execution_count": 123,
   "metadata": {},
   "outputs": [
    {
     "data": {
      "application/vnd.jupyter.widget-view+json": {
       "model_id": "8b7f3d09173b47fe82d9ca8889291b1f",
       "version_major": 2,
       "version_minor": 0
      },
      "text/plain": [
       "VBox(children=(HBox(children=(VBox(children=(FloatSlider(value=1.0, continuous_update=False, description='u_re…"
      ]
     },
     "metadata": {},
     "output_type": "display_data"
    }
   ],
   "source": [
    "Box_layout = widgets.Layout(justify_content='center')\n",
    "widgets.VBox([widgets.HBox(\n",
    "    [widgets.VBox([u_ref,s_ref_1,s_ref_2],layout=Box_layout), fig_1a],layout=Box_layout),fig_1b,fig_1c],layout=Box_layout)"
   ]
  },
  {
   "cell_type": "markdown",
   "metadata": {},
   "source": [
    "***Comment*** It is possible to find a release scheduling that produce no violation of the minimum storage threshold, although it will produce some supply deficit - the record is **305, can you beat it?**. However, one could also allow some violation of the storage threshold in order to reduce the deficits. The two objectives are conflicting: improving on one of them implies doing worse on the other."
   ]
  },
  {
   "cell_type": "markdown",
   "metadata": {},
   "source": [
    "## From manual to automatic optimization approach\n",
    "As we have seen, when we deal with two conflicting objective, we cannot find a solution that optimise both simoultaneously. If we prioritize one objective, the other one is deteriorated: there is a trade-off between the two. It would then be interesting to explore this tradeoff, and find all the release schedules that produce a different optimal combination of the two objectives. However, this is too cumbersome to do manually. Here we then use a multi-objective optimisation algorithm to do that for us. \n",
    "\n",
    "To this end, we use the Python Platypus package, and the NSGAII algorithm implemented in it. For more information about these methods and tools, see [Deb et al, 2002](https://ieeexplore.ieee.org/document/996017) and the [Platypus webpage](https://platypus.readthedocs.io). The code to run the optimisation is the following:"
   ]
  },
  {
   "cell_type": "code",
   "execution_count": 81,
   "metadata": {},
   "outputs": [],
   "source": [
    "def auto_optim(vars):\n",
    "\n",
    "    u_ref   = vars[0]\n",
    "    s_ref_1 = vars[1]\n",
    "    s_ref_2 = vars[2]\n",
    "    \n",
    "    x0 = [0,       u_0]\n",
    "    x1 = [s_ref_1, u_ref]\n",
    "    x2 = [s_ref_2, u_ref]\n",
    "    x3 = [1,       u_1]\n",
    "    param = [x0, x1, x2, x3, u_mean]\n",
    "    \n",
    "    Qreg = {'releases' : {'file_name' : 'Operation_rules',\n",
    "                         'function' : 'release_rule',\n",
    "                         'param': param},\n",
    "            'inflows' : [],\n",
    "            'rel_inf' : []}\n",
    "    \n",
    "    Qenv, Qspill, u, I_reg, s = Res_sys_sim(I_hist, e_hist, s_0, s_min, s_max, env_min, d_hist, Qreg)\n",
    "    \n",
    "    TSD = (np.sum((np.maximum(d_hist-u,[0]*N))**2)).astype('int')\n",
    "    MSV = (np.sum((np.maximum(rc-s,[0]*(N+1))))).astype('int')\n",
    "    \n",
    "    constraints = [s_ref_2-s_ref_1]\n",
    "    \n",
    "    return [TSD, MSV], constraints\n",
    "\n",
    "problem = Problem(3,2,1)\n",
    "Real0 = Real(0,u_1); Real1 = Real(0, 1); Real2 = Real(0, 1)\n",
    "\n",
    "problem.types[:] = [Real0] + [Real1] + [Real2]\n",
    "problem.constraints[:] = \">=0\"\n",
    "problem.function = auto_optim\n",
    "\n",
    "population_size = 30\n",
    "algorithm = NSGAII(problem,population_size)\n",
    "algorithm.run(1000) # Number of iterations\n",
    "\n",
    "results1_optim = np.array([algorithm.result[i].objectives[0] for i in range(population_size)])\n",
    "results2_optim = np.array([algorithm.result[i].objectives[1] for i in range(population_size)])\n",
    "\n",
    "sol_optim = [algorithm.result[i].variables for i in range(population_size)]"
   ]
  },
  {
   "cell_type": "markdown",
   "metadata": {},
   "source": [
    "Function to update the release policy when changing the parameters with the sliders"
   ]
  },
  {
   "cell_type": "code",
   "execution_count": 82,
   "metadata": {
    "code_folding": []
   },
   "outputs": [],
   "source": [
    "def update_operating_policy_2(i):\n",
    "    \n",
    "    u_ref,s_ref_1,s_ref_2 = sol_optim[i]\n",
    "    x0 = [0,       u_0]\n",
    "    x1 = [s_ref_1, u_ref]\n",
    "    x2 = [s_ref_2, u_ref]\n",
    "    x3 = [1,       u_1]\n",
    "    param = [x0, x1, x2, x3, u_mean]\n",
    "    u_frac = release_rule(param)/u_mean\n",
    "    \n",
    "    reg_releases = {'file_name' : 'Operation_rules',\n",
    "                    'function'  : 'release_rule',\n",
    "                    'param'     : param}\n",
    "    reg_inflows = []\n",
    "    reg_rel_inf = []\n",
    "\n",
    "    Qreg = {'releases' : reg_releases,\n",
    "            'inflows'  : reg_inflows,\n",
    "            'rel_inf'  : reg_rel_inf}\n",
    "    \n",
    "    Qenv, Qspill, u, I_reg, s = Res_sys_sim(I_hist, e_hist, s_0, s_min, s_max, env_min, d_hist, Qreg)\n",
    "    \n",
    "    MSV = (np.sum((np.maximum(rc-s,[0]*(N+1))))).astype('int')\n",
    "    fig_2c.title = 'Reservoir storage volume - MSV = '+str(MSV)+' ML'\n",
    "    \n",
    "    TSD = (np.sum((np.maximum(d_hist-u,[0]*N))**2)).astype('int')\n",
    "    fig_2b.title = 'Supply vs Demand - Total squared deficit = '+str(TSD)+' ML^2'\n",
    "    \n",
    "    return u_frac, Qenv, Qspill, u, I_reg, s"
   ]
  },
  {
   "cell_type": "markdown",
   "metadata": {},
   "source": [
    "Function to update the figure when changing the parameters with the sliders"
   ]
  },
  {
   "cell_type": "code",
   "execution_count": 83,
   "metadata": {
    "code_folding": []
   },
   "outputs": [],
   "source": [
    "def update_figure_2(change):\n",
    "    \n",
    "    rule_curve.y = update_operating_policy_2(pareto_front.selected[0])[0]\n",
    "    releases.y = update_operating_policy_2(pareto_front.selected[0])[3]\n",
    "    storage.y = update_operating_policy_2(pareto_front.selected[0])[5]"
   ]
  },
  {
   "cell_type": "markdown",
   "metadata": {},
   "source": [
    "Pareto front"
   ]
  },
  {
   "cell_type": "code",
   "execution_count": 84,
   "metadata": {
    "code_folding": []
   },
   "outputs": [],
   "source": [
    "x_sc_pf = LinearScale();y_sc_pf = LinearScale()\n",
    "x_ax_pf = Axis(label='Total squared deficit [ML^2]', scale=x_sc_pf)\n",
    "y_ax_pf = Axis(label='Minimum storage violation [ML]', scale=y_sc_pf, orientation='vertical')\n",
    "\n",
    "pareto_front = plt.scatter(results1_optim[:],results2_optim[:],\n",
    "                           scales={'x': x_sc_pf, 'y': y_sc_pf},\n",
    "                           colors=['deepskyblue'], \n",
    "                           interactions={'hover':'tooltip','click': 'select'})\n",
    "\n",
    "pareto_front.unselected_style={'opacity': 0.4}\n",
    "pareto_front.selected_style={'fill': 'red', 'stroke': 'yellow', 'width': '1125px', 'height': '125px'}\n",
    "def_tt = Tooltip(fields=['index','x', 'y'],\n",
    "                 labels=['index','Water deficit', 'Min storage'], \n",
    "                 formats=['.d','.1f', '.1f'])\n",
    "pareto_front.tooltip=def_tt\n",
    "\n",
    "fig_pf = plt.Figure(marks = [pareto_front],title = 'Interactive Pareto front', \n",
    "                    axes=[x_ax_pf, y_ax_pf],\n",
    "                    layout={'width': '500px', 'height': '500px'}, animation_duration=1000)\n",
    "\n",
    "if pareto_front.selected == []:\n",
    "    pareto_front.selected = [0]\n",
    "\n",
    "pareto_front.observe(update_figure_2,'selected')"
   ]
  },
  {
   "cell_type": "code",
   "execution_count": 85,
   "metadata": {},
   "outputs": [],
   "source": [
    "u_ref,s_ref_1,s_ref_2 = sol_optim[pareto_front.selected[0]]\n",
    "x0 = [0,       u_0]\n",
    "x1 = [s_ref_1, u_ref]\n",
    "x2 = [s_ref_2, u_ref]\n",
    "x3 = [1,       u_1]\n",
    "param = [x0, x1, x2, x3, u_mean]\n",
    "u_frac = release_rule(param)/u_mean\n",
    "\n",
    "reg_releases = {'file_name' : 'Operation_rules',\n",
    "                'function'  : 'release_rule',\n",
    "                'param'     : param}\n",
    "reg_inflows = []\n",
    "reg_rel_inf = []\n",
    "\n",
    "Qreg = {'releases' : reg_releases,\n",
    "        'inflows'  : reg_inflows,\n",
    "        'rel_inf'  : reg_rel_inf}\n",
    "\n",
    "Qenv, Qspill, u, I_reg, s = Res_sys_sim(I_hist, e_hist, s_0, s_min, s_max, env_min, d_hist, Qreg)"
   ]
  },
  {
   "cell_type": "markdown",
   "metadata": {},
   "source": [
    "Rule curve"
   ]
  },
  {
   "cell_type": "code",
   "execution_count": 86,
   "metadata": {},
   "outputs": [],
   "source": [
    "s_frac = np.arange(0,1.01,0.01)\n",
    "\n",
    "x_sc_2a = LinearScale(min=0,max=1); y_sc_2a = LinearScale(min=0,max=u_max/u_mean);\n",
    "x_ax_2a = Axis(label='Storage fraction', scale=x_sc_2a); \n",
    "y_ax_2a = Axis(label='Release fraction', scale=y_sc_2a, orientation='vertical')\n",
    "\n",
    "rule_curve           = Lines(x   = s_frac,\n",
    "                          y      = u_frac ,\n",
    "                          colors = ['blue'],\n",
    "                          scales = {'x': x_sc_2a, 'y': y_sc_2a})\n",
    "\n",
    "fig_2a             = plt.Figure(marks = [rule_curve],\n",
    "                               title = 'Rule curve',\n",
    "                               axes=[x_ax_2a, y_ax_2a],\n",
    "                               layout={'width': '400px', 'height': '350px'}, \n",
    "                               animation_duration=1000,\n",
    "                               scales={'x': x_sc_2a, 'y': y_sc_2a})\n",
    "\n",
    "rule_curve.observe(update_figure_2, ['x', 'y'])"
   ]
  },
  {
   "cell_type": "markdown",
   "metadata": {},
   "source": [
    "Releases vs Demand"
   ]
  },
  {
   "cell_type": "code",
   "execution_count": 87,
   "metadata": {},
   "outputs": [],
   "source": [
    "x_sc_2b = LinearScale(min=0,max=N);         y_sc_2b = LinearScale(min=0,max=u_max);\n",
    "x_ax_2b = Axis(label='week', scale=x_sc_2b); y_ax_2b = Axis(label='ML/week', scale=y_sc_2b, orientation='vertical')\n",
    "\n",
    "demand             = Bars(x   = np.arange(1,N+1),\n",
    "                          y      = d_hist,\n",
    "                          colors = ['gray'],\n",
    "                          scales = {'x': x_sc_2b, 'y': y_sc_2b})\n",
    "\n",
    "releases           = Bars(x   = np.arange(1,N+1),\n",
    "                          y      = u,\n",
    "                          colors = ['green'],\n",
    "                          scales = {'x': x_sc_2b, 'y': y_sc_2b})\n",
    "\n",
    "TSD = (np.sum((np.maximum(d_hist-u,[0]*N))**2)).astype('int')\n",
    "\n",
    "fig_2b             = plt.Figure(marks = [demand, releases],\n",
    "                               title = 'Supply vs Demand - TSD = '+str(TSD)+' ML^2',\n",
    "                               axes=[x_ax_2b, y_ax_2b],\n",
    "                               layout={'width': '950px', 'height': '250px'}, \n",
    "                               animation_duration=1000,\n",
    "                               scales={'x': x_sc_2b, 'y': y_sc_2b})\n",
    "\n",
    "releases.observe(update_figure_2, ['x', 'y'])"
   ]
  },
  {
   "cell_type": "markdown",
   "metadata": {},
   "source": [
    "Storage"
   ]
  },
  {
   "cell_type": "code",
   "execution_count": 88,
   "metadata": {},
   "outputs": [],
   "source": [
    "x_sc_2c = LinearScale();                    y_sc_2c = LinearScale(min=0,max=200);\n",
    "x_ax_2c = Axis(label='week', scale=x_sc_2c); y_ax_2c = Axis(label='ML', scale=y_sc_2c, orientation='vertical')\n",
    "\n",
    "storage           = Lines(x      = np.arange(0,N+1),\n",
    "                          y      = s ,\n",
    "                          colors = ['blue'],\n",
    "                          scales = {'x': x_sc_2c, 'y': y_sc_2c},\n",
    "                          fill   = 'bottom',fill_opacities = [0.8],fill_colors = ['blue'])\n",
    "\n",
    "max_storage       = plt.plot(x=np.arange(0,N+1),\n",
    "                             y=[s_max]*(N+1),\n",
    "                             colors=['red'],\n",
    "                             scales={'x': x_sc_2c, 'y': y_sc_2c})\n",
    "\n",
    "max_storage_label = plt.label(text = ['Max storage'], \n",
    "                              x=[0],\n",
    "                              y=[s_max+15],\n",
    "                              colors=['red'])\n",
    "\n",
    "min_storage = plt.plot(np.arange(0,N+1),rc,\n",
    "                         scales={'x': x_sc_2c, 'y': y_sc_2c},\n",
    "                         colors=['red'],opacities = [1],\n",
    "                         line_style = 'dashed',\n",
    "                         fill = 'bottom',fill_opacities = [0.4],fill_colors = ['red'], stroke_width = 1)\n",
    "min_storage_label = plt.label(text = ['Min storage'], \n",
    "                                x=[0],\n",
    "                                y=[rc[0]-10],\n",
    "                                colors=['red'])\n",
    "\n",
    "MSV = (np.sum((np.maximum(rc-s,[0]*(N+1))))).astype('int')\n",
    "\n",
    "fig_2c             = plt.Figure(marks = [storage,max_storage,max_storage_label,\n",
    "                                        min_storage,min_storage_label],\n",
    "                               title = 'Reservoir storage volume - MSV = '+str(MSV)+' ML',\n",
    "                               axes=[x_ax_2c, y_ax_2c],\n",
    "                               layout={'width': '950px', 'height': '250px'}, \n",
    "                               animation_duration=1000,\n",
    "                               scales={'x': x_sc_2c, 'y': y_sc_2c})\n",
    "\n",
    "storage.observe(update_figure_2, ['x', 'y'])"
   ]
  },
  {
   "cell_type": "markdown",
   "metadata": {},
   "source": [
    "Plot"
   ]
  },
  {
   "cell_type": "code",
   "execution_count": 89,
   "metadata": {
    "code_folding": []
   },
   "outputs": [
    {
     "data": {
      "application/vnd.jupyter.widget-view+json": {
       "model_id": "06604289e3a84b20bd98b480b4225e79",
       "version_major": 2,
       "version_minor": 0
      },
      "text/plain": [
       "VBox(children=(HBox(children=(Figure(animation_duration=1000, axes=[Axis(label='Total squared deficit [ML^2]',…"
      ]
     },
     "metadata": {},
     "output_type": "display_data"
    }
   ],
   "source": [
    "Box_layout = widgets.Layout(justify_content='center')\n",
    "widgets.VBox([widgets.HBox(\n",
    "    [fig_pf, fig_2a],layout=Box_layout),fig_2b,fig_2c],layout=Box_layout)"
   ]
  },
  {
   "cell_type": "markdown",
   "metadata": {},
   "source": [
    "#### Plot the optimisation results\n",
    "We can visualise the tradeoffs between the two objectives in one plot, called Pareto front, which displays the combination of the two objective values in correspondence to a set of optimised solutions. Click on one point in the Pareto front to visualise the release scheduling that generates that performance, and associated storage time series.  What do you think would be a balanced solution?"
   ]
  },
  {
   "cell_type": "markdown",
   "metadata": {},
   "source": [
    "### References \n",
    "\n",
    "Deb K. et al (2002) A fast and elitist multiobjective genetic algorithm: NSGA-II, IEEE Transactions on Evolutionary Computation, 6(2), 182-197, doi:10.1109/4235.996017.\n",
    "\n",
    "Loucks D. P. et al (1981) Water resource systems planning and analysis, Prentice-Hall."
   ]
  },
  {
   "cell_type": "markdown",
   "metadata": {},
   "source": [
    "# Questionnaire: Section 2 of 2\n",
    "Now that you are done with the Notebooks, could you please answer the questions of Section 2 of 2 of the questionnaire (click on Next button that you will find at the end of Section 1 of 2 of the questionnaire)?"
   ]
  },
  {
   "cell_type": "code",
   "execution_count": null,
   "metadata": {},
   "outputs": [],
   "source": []
  }
 ],
 "metadata": {
  "kernelspec": {
   "display_name": "Python 3",
   "language": "python",
   "name": "python3"
  },
  "language_info": {
   "codemirror_mode": {
    "name": "ipython",
    "version": 3
   },
   "file_extension": ".py",
   "mimetype": "text/x-python",
   "name": "python",
   "nbconvert_exporter": "python",
   "pygments_lexer": "ipython3",
   "version": "3.6.5"
  },
  "varInspector": {
   "cols": {
    "lenName": 16,
    "lenType": 16,
    "lenVar": 40
   },
   "kernels_config": {
    "python": {
     "delete_cmd_postfix": "",
     "delete_cmd_prefix": "del ",
     "library": "var_list.py",
     "varRefreshCmd": "print(var_dic_list())"
    },
    "r": {
     "delete_cmd_postfix": ") ",
     "delete_cmd_prefix": "rm(",
     "library": "var_list.r",
     "varRefreshCmd": "cat(var_dic_list()) "
    }
   },
   "types_to_exclude": [
    "module",
    "function",
    "builtin_function_or_method",
    "instance",
    "_Feature"
   ],
   "window_display": false
  }
 },
 "nbformat": 4,
 "nbformat_minor": 2
}
