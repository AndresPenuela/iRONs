{
 "cells": [
  {
   "cell_type": "markdown",
   "metadata": {},
   "source": [
    "# Downloading ensemble weather forecasts\n",
    "\n",
    "The atmosphere can be viewed as a chaotic system in which the future state depends sensitively on the initial conditions, i.e. a slight change in the initial conditions can lead to a significant change in the forecast outputs. The fact that estimates of the current state are inaccurate and that numerical models have inadequacies, leads to forecast errors and uncertainty that grow with increasing forecast lead time. Ensemble forecasting aims at capturing this forecast uncertainty by generating an ensemble of several possible scenarios with the same probability of occurrence. ([Learn more about ensemble prediction](https://www.youtube.com/watch?v=NLhRUun2iso))\n",
    "\n",
    "In this Notebook we will learn how to download ensemble weather forecasts and hindcasts from the [ECMWF public dataset]. This Notebook downloads 25 (Hindcast: 1981-2016) or 50 (Forecast: 2017-2019) members of the ECMWF seasonal forecast from the server.\n",
    "They are updated and published online every 1st day of the month.\n",
    "\n",
    "C3S Seasonal Catalogue: http://apps.ecmwf.int/data-catalogues/c3s-seasonal/?class=c3\n",
    "\n",
    "The files are in netcdf4 format.(https://apps.ecmwf.int/datasets/).\n",
    "\n",
    "<left> <img src=\"Images/uncertainty.1.jpg\" width = \"400px\"><left>\n",
    "## 1. Create an account on the Copernicus Climate Data Store\n",
    "First of all you need to register on the [Copernicus Climate Data Store](https://cds.climate.copernicus.eu)\n",
    "\n",
    "Once you have created an account copy your user ID (UID) and API key. You can find them in your User profile\n",
    "\n",
    "In the folder containing this Notebook you will find a file called \".cdsapirc\". Copy and paste this file in your \"home\" folder. On Windows it corresponds to \"C:/Users/{your username on Windows}/\"\n",
    "\n",
    "Open the copied file with a text editor, you should see this:\n",
    "\n",
    "> url: https://cds.climate.copernicus.eu/api/v2\n",
    "\n",
    "> key: UID:APIkey\n",
    "    \n",
    "Now edit this text and replace UID by your own UID number and APIkey by your own API key number (make sure that both numbers are separated by a colon)\n",
    "    \n",
    "You can also find these intructions in this [link](https://cds.climate.copernicus.eu/api-how-to)\n",
    "\n",
    "## 2. Install the CDS API client library\n",
    "Use this command to install the library:\n",
    "\n",
    "> pip install cdsapi\n",
    "\n",
    "Use [this link](../../A%20-%20Knowledge%20transfer/0%20-%20Tutorials/0.b%20-%20How%20to%20install%20libraries.ipynb) to learn how to install a library.\n",
    "\n",
    "## 3. Import libraries"
   ]
  },
  {
   "cell_type": "code",
   "execution_count": 26,
   "metadata": {},
   "outputs": [],
   "source": [
    "import numpy as np\n",
    "import os\n",
    "import cdsapi\n",
    "server = cdsapi.Client()\n",
    "import sys\n",
    "# Sub-modules\n",
    "import sys\n",
    "sys.path.append('../../Submodules')\n",
    "from data_retrieval_request import data_retrieval_request"
   ]
  },
  {
   "cell_type": "markdown",
   "metadata": {},
   "source": [
    "## 4. Define the data and file parameters"
   ]
  },
  {
   "cell_type": "code",
   "execution_count": 27,
   "metadata": {},
   "outputs": [],
   "source": [
    "# Originating centre of the ensemble weather forecast\n",
    "originating_centre = 'ECMWF'\n",
    "system = '5'\n",
    "# Weather variables to download\n",
    "weather_variables = ['2m_temperature','evaporation','total_precipitation']\n",
    "# Initial dates of the forecast\n",
    "years = [2018]\n",
    "months = [11]\n",
    "days = [1]\n",
    "# Forecast leadtime\n",
    "leadtime = 5160 # hours. 5160 hours = 7 months approximately\n",
    "time_step = 24 # hours\n",
    "leadtime_hours = [str(x) for x in np.arange(0,leadtime+time_step,time_step)] \n",
    "# Spatial coordinates\n",
    "grid_resolution = '0.2/0.05' # The first number is east-west resolution (longitude) and the second is north-south (latitude)\n",
    "coordinates = '51.10/-3.5/51.05/-3.3' # This defines a squared area defined by N/W/S/E (in degrees)\n",
    "\n",
    "# Format of the file to download \n",
    "file_format = 'netcdf'\n",
    "# Folder and file name ending\n",
    "folder_path = originating_centre+' data//'+file_format+' files'\n",
    "file_name_end = '_1d_7m_'+originating_centre+'_Temp_Evap_Rain.nc'"
   ]
  },
  {
   "cell_type": "markdown",
   "metadata": {},
   "source": [
    "## 5. Download the forecast files\n",
    "Here we call the submodule to send the request to download the file.\n",
    "**Comment**: it may take quite long to download the forecast. As you will see, the request will be queued."
   ]
  },
  {
   "cell_type": "code",
   "execution_count": 28,
   "metadata": {},
   "outputs": [
    {
     "name": "stderr",
     "output_type": "stream",
     "text": [
      "2019-12-19 10:42:47,942 INFO Sending request to https://cds.climate.copernicus.eu/api/v2/resources/seasonal-original-single-levels\n",
      "2019-12-19 10:42:48,370 INFO Request is completed\n",
      "2019-12-19 10:42:48,372 INFO Downloading http://136.156.132.153/cache-compute-0002/cache/data8/adaptor.mars.external-1576592047.248383-11227-11-cf3c1481-02e5-44f5-8350-e0ef9b897163.nc to ECMWF data//netcdf files//20181101_1d_7m_ECMWF_Temp_Evap_Rain.nc (259.7K)\n",
      "2019-12-19 10:42:48,747 INFO Download rate 694.4K/s                                                                    \n"
     ]
    }
   ],
   "source": [
    "data_retrieval_request(originating_centre,system,weather_variables,\n",
    "                           years, months, days, leadtime_hours,\n",
    "                           grid_resolution, coordinates,\n",
    "                           file_format,folder_path,file_name_end)"
   ]
  },
  {
   "cell_type": "markdown",
   "metadata": {},
   "source": [
    "#### Let's go to the next Notebook to read and bias correct the downladed data: [Bias correction of weather forecasts](1.b%20Bias%20correction%20of%20weather%20forecasts.ipynb)"
   ]
  }
 ],
 "metadata": {
  "kernelspec": {
   "display_name": "Python 3",
   "language": "python",
   "name": "python3"
  },
  "language_info": {
   "codemirror_mode": {
    "name": "ipython",
    "version": 3
   },
   "file_extension": ".py",
   "mimetype": "text/x-python",
   "name": "python",
   "nbconvert_exporter": "python",
   "pygments_lexer": "ipython3",
   "version": "3.7.0"
  },
  "varInspector": {
   "cols": {
    "lenName": 16,
    "lenType": 16,
    "lenVar": 40
   },
   "kernels_config": {
    "python": {
     "delete_cmd_postfix": "",
     "delete_cmd_prefix": "del ",
     "library": "var_list.py",
     "varRefreshCmd": "print(var_dic_list())"
    },
    "r": {
     "delete_cmd_postfix": ") ",
     "delete_cmd_prefix": "rm(",
     "library": "var_list.r",
     "varRefreshCmd": "cat(var_dic_list()) "
    }
   },
   "types_to_exclude": [
    "module",
    "function",
    "builtin_function_or_method",
    "instance",
    "_Feature"
   ],
   "window_display": false
  }
 },
 "nbformat": 4,
 "nbformat_minor": 2
}
