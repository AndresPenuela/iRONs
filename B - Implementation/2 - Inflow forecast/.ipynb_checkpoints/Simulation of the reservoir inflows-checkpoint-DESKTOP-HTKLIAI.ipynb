{
 "cells": [
  {
   "cell_type": "markdown",
   "metadata": {},
   "source": [
    "# Simulation of the reservoir inflows\n",
    "## HBV rainfall-runoff model\n",
    "This function simulates the HBV rainfall-runoff model (Seibert, 1997). It is a Python version of the script included in the [SAFE Toolbox](https://www.safetoolbox.info/) by F. Pianosi, F. Sarrazin and T. Wagener at Bristol University (2015).\n",
    "\n",
    "The HBV model is a lumped hydrological model that includes conceptual numerical descriptions of hydrological processes at the catchment scale.\n",
    "\n",
    "### Input data, parameters and structure of the model\n",
    "\n",
    "Forcing input data are observations of precipitation ($P$) and estimates of potential evapotranspiration ($ept$). The time step is usually one day, but it is possible to use shorter time steps.\n",
    "\n",
    "Input parmeters ($param$):\n",
    "\n",
    "1. $BETA$  = Exponential parameter in soil routine [-]\n",
    "2. $LP$    = Limit for potential evapotranspiration [-]\n",
    "3. $FC$    = Maximum soil moisture content [mm] \n",
    "4. $PERC$  = Maximum flux from Upper to Lower Zone [mm/Dt]\n",
    "5. $K0$    = Near surface flow coefficient\n",
    "6. $K1$    = Recession coefficient for the Upper Zone (ratio) [1/Dt]\n",
    "7. $K2$    = Recession coefficient for the Lower Zone (ratio) [1/Dt]\n",
    "8. $UZL$   = Near surface flow threshold [mm]\n",
    "9. $MAXBAS$ = Transfer function parameter [day]\n",
    "\n",
    "The model consists of four main modules/subroutines: \n",
    "1. SM module: for soil moisture ($SM$), actual evapotranspiration ($EA$) and recharge estimation ($R$)\n",
    "2. UZ module: for upper zone runoff generation ($Q_{0}$ = surface runoff + interflow) and percolation ($PERC$ = water flux from upper to lower zone) \n",
    "3. LZ module: for lower zone runoff generation ($Q_{1}$ = baseflow)\n",
    "4. Routing module: for runoff routing.\n",
    "\n",
    "<left> <img src=\"Images/HBV model structure.png\" width = \"500px\"><left>\n",
    "\n",
    "#### Comments:\n",
    "\n",
    "- The Capillary flux ($CFLUX$; from upper tank to soil moisture accounting module) is not considered\n",
    "\n",
    "\n",
    "- The recharge from the soil to the upper zone is considered to be a faster process than evapotranspiration.\n",
    "\n",
    "\n",
    "- The preferred path in the Upper Zone dynamics can be selected by the flag $Case$:\n",
    "    >flag=1 → Preferred path is runoff \n",
    "    \n",
    "    >flag=2 → Preferred path is percolation\n",
    "\n",
    "To run the model we first need to import the necessary libraries."
   ]
  },
  {
   "cell_type": "code",
   "execution_count": 1,
   "metadata": {},
   "outputs": [],
   "source": [
    "import numpy as np\n",
    "import matplotlib.pyplot as plt\n",
    "from matplotlib.dates import num2date\n",
    "from datetime import datetime, timedelta\n",
    "import ipywidgets as widgets\n",
    "import plotly.graph_objs as go\n",
    "# Subroutines\n",
    "from Subroutines.CEH_data import CEH_data"
   ]
  },
  {
   "cell_type": "markdown",
   "metadata": {},
   "source": [
    "## Input data\n",
    "### Climate data \n",
    "We call a sub-routine to load daily historical weather data provided by the CEH in our study area"
   ]
  },
  {
   "cell_type": "code",
   "execution_count": 5,
   "metadata": {},
   "outputs": [],
   "source": [
    "year = 2011\n",
    "month = 9\n",
    "duration = 9 # in months\n",
    "\n",
    "\n",
    "#dates,temp,ept,P = CEH_data(year,month,duration)\n",
    "\n",
    "\n",
    "CEH_data_file = 'Input data/CEH/CEH_data_WimClat.csv'\n",
    "dates = np.genfromtxt(CEH_data_file, delimiter = ',',skip_header=1)[0:,0]\n",
    "ept = np.genfromtxt(CEH_data_file, delimiter = ',',skip_header=1)[0:,1]\n",
    "P = np.genfromtxt(CEH_data_file, delimiter = ',',skip_header=1)[0:,2]"
   ]
  },
  {
   "cell_type": "code",
   "execution_count": 7,
   "metadata": {},
   "outputs": [
    {
     "data": {
      "text/plain": [
       "array([nan, nan, nan, ..., nan, nan, nan])"
      ]
     },
     "execution_count": 7,
     "metadata": {},
     "output_type": "execute_result"
    }
   ],
   "source": [
    "dates"
   ]
  },
  {
   "cell_type": "markdown",
   "metadata": {},
   "source": [
    "Plotting the precipitation data"
   ]
  },
  {
   "cell_type": "code",
   "execution_count": 6,
   "metadata": {},
   "outputs": [
    {
     "name": "stderr",
     "output_type": "stream",
     "text": [
      "C:\\Users\\andro\\Anaconda3\\lib\\site-packages\\matplotlib\\dates.py:316: RuntimeWarning: invalid value encountered in double_scalars\n",
      "  ix, remainder = divmod(x, 1)\n"
     ]
    },
    {
     "ename": "ValueError",
     "evalue": "cannot convert float NaN to integer",
     "output_type": "error",
     "traceback": [
      "\u001b[1;31m---------------------------------------------------------------------------\u001b[0m",
      "\u001b[1;31mValueError\u001b[0m                                Traceback (most recent call last)",
      "\u001b[1;32m<ipython-input-6-d920bf6aeade>\u001b[0m in \u001b[0;36m<module>\u001b[1;34m()\u001b[0m\n\u001b[0;32m      1\u001b[0m \u001b[0mfig\u001b[0m\u001b[1;33m,\u001b[0m\u001b[0max\u001b[0m \u001b[1;33m=\u001b[0m \u001b[0mplt\u001b[0m\u001b[1;33m.\u001b[0m\u001b[0msubplots\u001b[0m\u001b[1;33m(\u001b[0m\u001b[0mfigsize\u001b[0m\u001b[1;33m=\u001b[0m\u001b[1;33m(\u001b[0m\u001b[1;36m15\u001b[0m\u001b[1;33m,\u001b[0m \u001b[1;36m5\u001b[0m\u001b[1;33m)\u001b[0m\u001b[1;33m)\u001b[0m\u001b[1;33m\u001b[0m\u001b[0m\n\u001b[1;32m----> 2\u001b[1;33m \u001b[0max\u001b[0m\u001b[1;33m.\u001b[0m\u001b[0mbar\u001b[0m\u001b[1;33m(\u001b[0m\u001b[0mnum2date\u001b[0m\u001b[1;33m(\u001b[0m\u001b[0mdates\u001b[0m\u001b[1;33m,\u001b[0m\u001b[1;34m'days since 1900-01-01'\u001b[0m\u001b[1;33m)\u001b[0m\u001b[1;33m,\u001b[0m\u001b[0mP\u001b[0m\u001b[1;33m,\u001b[0m \u001b[0mcolor\u001b[0m \u001b[1;33m=\u001b[0m \u001b[1;34m'blue'\u001b[0m\u001b[1;33m,\u001b[0m\u001b[0mlinewidth\u001b[0m \u001b[1;33m=\u001b[0m \u001b[1;36m1\u001b[0m\u001b[1;33m)\u001b[0m\u001b[1;33m\u001b[0m\u001b[0m\n\u001b[0m\u001b[0;32m      3\u001b[0m \u001b[0max\u001b[0m\u001b[1;33m.\u001b[0m\u001b[0mset_title\u001b[0m\u001b[1;33m(\u001b[0m\u001b[1;34m'daily precipitation'\u001b[0m\u001b[1;33m,\u001b[0m\u001b[0mfontsize\u001b[0m\u001b[1;33m=\u001b[0m\u001b[1;36m12\u001b[0m\u001b[1;33m)\u001b[0m\u001b[1;33m\u001b[0m\u001b[0m\n\u001b[0;32m      4\u001b[0m \u001b[0max\u001b[0m\u001b[1;33m.\u001b[0m\u001b[0mlegend\u001b[0m\u001b[1;33m(\u001b[0m\u001b[0mfontsize\u001b[0m\u001b[1;33m=\u001b[0m\u001b[1;36m12\u001b[0m\u001b[1;33m)\u001b[0m\u001b[1;33m\u001b[0m\u001b[0m\n\u001b[0;32m      5\u001b[0m \u001b[1;32mfor\u001b[0m \u001b[0mlabel\u001b[0m \u001b[1;32min\u001b[0m \u001b[1;33m(\u001b[0m\u001b[0max\u001b[0m\u001b[1;33m.\u001b[0m\u001b[0mget_xticklabels\u001b[0m\u001b[1;33m(\u001b[0m\u001b[1;33m)\u001b[0m \u001b[1;33m+\u001b[0m \u001b[0max\u001b[0m\u001b[1;33m.\u001b[0m\u001b[0mget_yticklabels\u001b[0m\u001b[1;33m(\u001b[0m\u001b[1;33m)\u001b[0m\u001b[1;33m)\u001b[0m\u001b[1;33m:\u001b[0m\u001b[1;33m\u001b[0m\u001b[0m\n",
      "\u001b[1;32m~\\Anaconda3\\lib\\site-packages\\matplotlib\\dates.py\u001b[0m in \u001b[0;36mnum2date\u001b[1;34m(x, tz)\u001b[0m\n\u001b[0;32m    525\u001b[0m         \u001b[1;32mif\u001b[0m \u001b[1;32mnot\u001b[0m \u001b[0mx\u001b[0m\u001b[1;33m.\u001b[0m\u001b[0msize\u001b[0m\u001b[1;33m:\u001b[0m\u001b[1;33m\u001b[0m\u001b[0m\n\u001b[0;32m    526\u001b[0m             \u001b[1;32mreturn\u001b[0m \u001b[0mx\u001b[0m\u001b[1;33m\u001b[0m\u001b[0m\n\u001b[1;32m--> 527\u001b[1;33m         \u001b[1;32mreturn\u001b[0m \u001b[0m_from_ordinalf_np_vectorized\u001b[0m\u001b[1;33m(\u001b[0m\u001b[0mx\u001b[0m\u001b[1;33m,\u001b[0m \u001b[0mtz\u001b[0m\u001b[1;33m)\u001b[0m\u001b[1;33m.\u001b[0m\u001b[0mtolist\u001b[0m\u001b[1;33m(\u001b[0m\u001b[1;33m)\u001b[0m\u001b[1;33m\u001b[0m\u001b[0m\n\u001b[0m\u001b[0;32m    528\u001b[0m \u001b[1;33m\u001b[0m\u001b[0m\n\u001b[0;32m    529\u001b[0m \u001b[1;33m\u001b[0m\u001b[0m\n",
      "\u001b[1;32m~\\Anaconda3\\lib\\site-packages\\numpy\\lib\\function_base.py\u001b[0m in \u001b[0;36m__call__\u001b[1;34m(self, *args, **kwargs)\u001b[0m\n\u001b[0;32m   1970\u001b[0m             \u001b[0mvargs\u001b[0m\u001b[1;33m.\u001b[0m\u001b[0mextend\u001b[0m\u001b[1;33m(\u001b[0m\u001b[1;33m[\u001b[0m\u001b[0mkwargs\u001b[0m\u001b[1;33m[\u001b[0m\u001b[0m_n\u001b[0m\u001b[1;33m]\u001b[0m \u001b[1;32mfor\u001b[0m \u001b[0m_n\u001b[0m \u001b[1;32min\u001b[0m \u001b[0mnames\u001b[0m\u001b[1;33m]\u001b[0m\u001b[1;33m)\u001b[0m\u001b[1;33m\u001b[0m\u001b[0m\n\u001b[0;32m   1971\u001b[0m \u001b[1;33m\u001b[0m\u001b[0m\n\u001b[1;32m-> 1972\u001b[1;33m         \u001b[1;32mreturn\u001b[0m \u001b[0mself\u001b[0m\u001b[1;33m.\u001b[0m\u001b[0m_vectorize_call\u001b[0m\u001b[1;33m(\u001b[0m\u001b[0mfunc\u001b[0m\u001b[1;33m=\u001b[0m\u001b[0mfunc\u001b[0m\u001b[1;33m,\u001b[0m \u001b[0margs\u001b[0m\u001b[1;33m=\u001b[0m\u001b[0mvargs\u001b[0m\u001b[1;33m)\u001b[0m\u001b[1;33m\u001b[0m\u001b[0m\n\u001b[0m\u001b[0;32m   1973\u001b[0m \u001b[1;33m\u001b[0m\u001b[0m\n\u001b[0;32m   1974\u001b[0m     \u001b[1;32mdef\u001b[0m \u001b[0m_get_ufunc_and_otypes\u001b[0m\u001b[1;33m(\u001b[0m\u001b[0mself\u001b[0m\u001b[1;33m,\u001b[0m \u001b[0mfunc\u001b[0m\u001b[1;33m,\u001b[0m \u001b[0margs\u001b[0m\u001b[1;33m)\u001b[0m\u001b[1;33m:\u001b[0m\u001b[1;33m\u001b[0m\u001b[0m\n",
      "\u001b[1;32m~\\Anaconda3\\lib\\site-packages\\numpy\\lib\\function_base.py\u001b[0m in \u001b[0;36m_vectorize_call\u001b[1;34m(self, func, args)\u001b[0m\n\u001b[0;32m   2040\u001b[0m             \u001b[0mres\u001b[0m \u001b[1;33m=\u001b[0m \u001b[0mfunc\u001b[0m\u001b[1;33m(\u001b[0m\u001b[1;33m)\u001b[0m\u001b[1;33m\u001b[0m\u001b[0m\n\u001b[0;32m   2041\u001b[0m         \u001b[1;32melse\u001b[0m\u001b[1;33m:\u001b[0m\u001b[1;33m\u001b[0m\u001b[0m\n\u001b[1;32m-> 2042\u001b[1;33m             \u001b[0mufunc\u001b[0m\u001b[1;33m,\u001b[0m \u001b[0motypes\u001b[0m \u001b[1;33m=\u001b[0m \u001b[0mself\u001b[0m\u001b[1;33m.\u001b[0m\u001b[0m_get_ufunc_and_otypes\u001b[0m\u001b[1;33m(\u001b[0m\u001b[0mfunc\u001b[0m\u001b[1;33m=\u001b[0m\u001b[0mfunc\u001b[0m\u001b[1;33m,\u001b[0m \u001b[0margs\u001b[0m\u001b[1;33m=\u001b[0m\u001b[0margs\u001b[0m\u001b[1;33m)\u001b[0m\u001b[1;33m\u001b[0m\u001b[0m\n\u001b[0m\u001b[0;32m   2043\u001b[0m \u001b[1;33m\u001b[0m\u001b[0m\n\u001b[0;32m   2044\u001b[0m             \u001b[1;31m# Convert args to object arrays first\u001b[0m\u001b[1;33m\u001b[0m\u001b[1;33m\u001b[0m\u001b[0m\n",
      "\u001b[1;32m~\\Anaconda3\\lib\\site-packages\\numpy\\lib\\function_base.py\u001b[0m in \u001b[0;36m_get_ufunc_and_otypes\u001b[1;34m(self, func, args)\u001b[0m\n\u001b[0;32m   2000\u001b[0m \u001b[1;33m\u001b[0m\u001b[0m\n\u001b[0;32m   2001\u001b[0m             \u001b[0minputs\u001b[0m \u001b[1;33m=\u001b[0m \u001b[1;33m[\u001b[0m\u001b[0marg\u001b[0m\u001b[1;33m.\u001b[0m\u001b[0mflat\u001b[0m\u001b[1;33m[\u001b[0m\u001b[1;36m0\u001b[0m\u001b[1;33m]\u001b[0m \u001b[1;32mfor\u001b[0m \u001b[0marg\u001b[0m \u001b[1;32min\u001b[0m \u001b[0margs\u001b[0m\u001b[1;33m]\u001b[0m\u001b[1;33m\u001b[0m\u001b[0m\n\u001b[1;32m-> 2002\u001b[1;33m             \u001b[0moutputs\u001b[0m \u001b[1;33m=\u001b[0m \u001b[0mfunc\u001b[0m\u001b[1;33m(\u001b[0m\u001b[1;33m*\u001b[0m\u001b[0minputs\u001b[0m\u001b[1;33m)\u001b[0m\u001b[1;33m\u001b[0m\u001b[0m\n\u001b[0m\u001b[0;32m   2003\u001b[0m \u001b[1;33m\u001b[0m\u001b[0m\n\u001b[0;32m   2004\u001b[0m             \u001b[1;31m# Performance note: profiling indicates that -- for simple\u001b[0m\u001b[1;33m\u001b[0m\u001b[1;33m\u001b[0m\u001b[0m\n",
      "\u001b[1;32m~\\Anaconda3\\lib\\site-packages\\matplotlib\\dates.py\u001b[0m in \u001b[0;36m_from_ordinalf\u001b[1;34m(x, tz)\u001b[0m\n\u001b[0;32m    315\u001b[0m \u001b[1;33m\u001b[0m\u001b[0m\n\u001b[0;32m    316\u001b[0m     \u001b[0mix\u001b[0m\u001b[1;33m,\u001b[0m \u001b[0mremainder\u001b[0m \u001b[1;33m=\u001b[0m \u001b[0mdivmod\u001b[0m\u001b[1;33m(\u001b[0m\u001b[0mx\u001b[0m\u001b[1;33m,\u001b[0m \u001b[1;36m1\u001b[0m\u001b[1;33m)\u001b[0m\u001b[1;33m\u001b[0m\u001b[0m\n\u001b[1;32m--> 317\u001b[1;33m     \u001b[0mix\u001b[0m \u001b[1;33m=\u001b[0m \u001b[0mint\u001b[0m\u001b[1;33m(\u001b[0m\u001b[0mix\u001b[0m\u001b[1;33m)\u001b[0m\u001b[1;33m\u001b[0m\u001b[0m\n\u001b[0m\u001b[0;32m    318\u001b[0m     \u001b[1;32mif\u001b[0m \u001b[0mix\u001b[0m \u001b[1;33m<\u001b[0m \u001b[1;36m1\u001b[0m\u001b[1;33m:\u001b[0m\u001b[1;33m\u001b[0m\u001b[0m\n\u001b[0;32m    319\u001b[0m         raise ValueError('Cannot convert {} to a date.  This often happens if '\n",
      "\u001b[1;31mValueError\u001b[0m: cannot convert float NaN to integer"
     ]
    },
    {
     "data": {
      "image/png": "[encoded data removed]",
      "text/plain": [
       "<Figure size 1080x360 with 1 Axes>"
      ]
     },
     "metadata": {
      "needs_background": "light"
     },
     "output_type": "display_data"
    }
   ],
   "source": [
    "fig,ax = plt.subplots(figsize=(15, 5))\n",
    "ax.bar(num2date(dates,'days since 1900-01-01'),P, color = 'blue',linewidth = 1)\n",
    "ax.set_title('daily precipitation',fontsize=12)\n",
    "ax.legend(fontsize=12)\n",
    "for label in (ax.get_xticklabels() + ax.get_yticklabels()):\n",
    "    label.set_fontsize(12)\n",
    "ax.set_ylabel(\"mm\",fontsize=12)\n",
    "plt.show()"
   ]
  },
  {
   "cell_type": "code",
   "execution_count": null,
   "metadata": {},
   "outputs": [],
   "source": [
    "trace1 = go.Bar(\n",
    "    x = df_groupby_datebr.index.values,\n",
    "    y = df_groupby_datebr.ZHVI_1bedroom,\n",
    "    name = \"ZHVI_1bedroom\",\n",
    "    marker = dict(color = 'rgb(102,255,255)'),\n",
    "    text = df_groupby_datebr['ZHVI_1bedroom'])"
   ]
  },
  {
   "cell_type": "markdown",
   "metadata": {},
   "source": [
    "### Initial conditions\n",
    "\n",
    "> SSM0 = initial soil moisture [mm]\n",
    "\n",
    "> SUZ0 = initial Upper Zone storage [mm]\n",
    "\n",
    "> SLZ0 = initial Lower Zone storage [mm]"
   ]
  },
  {
   "cell_type": "code",
   "execution_count": null,
   "metadata": {},
   "outputs": [],
   "source": [
    "# We use arbitrary values\n",
    "SSM0 = 200\n",
    "SUZ0 = 2.5\n",
    "SLZ0 = 2.5\n",
    "ini = [SSM0,SUZ0,SLZ0]"
   ]
  },
  {
   "cell_type": "markdown",
   "metadata": {},
   "source": [
    "### Calibration parameters"
   ]
  },
  {
   "cell_type": "code",
   "execution_count": null,
   "metadata": {},
   "outputs": [],
   "source": [
    "BETA   = 6.4    # exponential parameter in soil routine [-]\n",
    "LP     = 0.8    # evapotranspiration limit [-]\n",
    "FC     = max(np.finfo(float).eps,247.1)  # field capacity [mm] \n",
    "PERC   = 0.9    # maximum flux from Upper to Lower Zone [mm/Dt]\n",
    "K0     = 1/3.9  # near surface flow coefficient (ratio) [1/Dt]  \n",
    "K1     = 1/11.0 # upper Zone outflow coefficient (ratio) [1/Dt]  \n",
    "K2     = 1/61.3 # lower Zone outflow coefficient (ratio) [1/Dt]  \n",
    "UZL    = 27.3   # near surface flow threshold [mm]\n",
    "MAXBAS = max(1,round(1.9))    # flow routing coefficient or Transfer function parameter [day]\n",
    "\n",
    "param = [BETA, LP, FC, PERC, K0, K1, K2, UZL, MAXBAS]\n",
    "\n",
    "Case = 1 # preferred path in the Upper Zone dynamics"
   ]
  },
  {
   "cell_type": "markdown",
   "metadata": {},
   "source": [
    "## HBV model code"
   ]
  },
  {
   "cell_type": "code",
   "execution_count": null,
   "metadata": {},
   "outputs": [],
   "source": [
    "def HBV_model(dates, temp, ept, P, ini, param, case):\n",
    "    # -----------------------\n",
    "    # Outputs initialization:\n",
    "    # -----------------------\n",
    "    N  = len(ept)         # number of time samples\n",
    "    EA = np.zeros([N,])   # Actual Evapotranspiration [mm/Dt]\n",
    "    SM = np.zeros([N+1,]) # Soil Moisture [mm]\n",
    "    SM[0]=SSM0\n",
    "    R  = np.zeros([N,1,]) # Recharge (water flow from Soil to Upper Zone) [mm/Dt]\n",
    "    UZ = np.zeros([N+1,]) # Upper Zone moisture [mm]\n",
    "    UZ[0] = SUZ0\n",
    "    LZ = np.zeros([N+1,]) # Lower Zone moisture [mm]\n",
    "    LZ[0] = SLZ0\n",
    "    RL = np.zeros([N,])   # Recharge to the lower zone [mm]\n",
    "    Q0 = np.zeros([N,])   # Outflow from Upper Zone [mm/Dt]\n",
    "    Q1 = np.zeros([N,])   # Outflow from Lower Zone [mm/Dt]\n",
    "    \n",
    "    for t in range(N):\n",
    "\n",
    "        # --------------------------\n",
    "        #    Soil Moisture Dynamics:\n",
    "        # --------------------------\n",
    "\n",
    "        R[t]= P[t]*(SM[t]/FC)**BETA  # Compute the value of the recharge to the \n",
    "        # upper zone (we assumed that this process is faster than evaporation)\n",
    "        SM_dummy = max(min(SM[t]+P[t]-R[t],FC),0) # Compute the water balance \n",
    "        # with the value of the recharge  \n",
    "        R[t]=R[t]+ max(SM[t]+P[t]- R[t]-FC,0)+min(SM[t]+P[t]-R[t],0) #adjust R \n",
    "        # by an amount equal to the possible negative SM amount or to the \n",
    "        # possible SM amount above FC\n",
    "\n",
    "        EA[t]=ept[t]*min(SM_dummy/(FC*LP),1) # Compute the evaporation\n",
    "        SM[t+1] = max(min(SM_dummy-EA[t],FC),0) # Compute the water balance \n",
    "\n",
    "        EA[t]=EA[t]+ max(SM_dummy-EA[t]-FC,0)+min(SM_dummy-EA[t],0) # adjust EA\n",
    "        # by an amount equal to the possible negative SM amount or to the \n",
    "        # possible SM amount above FC\n",
    "\n",
    "        # --------------------\n",
    "        # Upper Zone dynamics:\n",
    "        # --------------------\n",
    "\n",
    "        if Case==1:\n",
    "            # Case 1: Preferred path = runoff from the upper zone \n",
    "            Q0[t] = max(min(K1*UZ[t]+K0*max(UZ[t]-UZL,0),UZ[t]),0)              \t \n",
    "            RL[t] = max(min(UZ[t]-Q0[t],PERC),0)\n",
    "\n",
    "        elif Case==2:\n",
    "            # Case 2: Preferred path = percolation\n",
    "            RL[t]= max(min(PERC,UZ[t]),0)\n",
    "            Q0[t] = max(min(K1*UZ[t]+K0*max(UZ[t]-UZL,0),UZ[t]-RL[t]),0)\n",
    "        else:\n",
    "            raise ValueError('Case must equal to 1 or 2 ')\n",
    "\n",
    "        UZ[t+1] = UZ[t]+R[t]-Q0[t]-RL[t]   \n",
    "\n",
    "        # --------------------\n",
    "        # Lower Zone dynamics: \n",
    "        # --------------------\n",
    "\n",
    "        Q1[t] = max(min(K2*LZ[t],LZ[t]),0)\n",
    "        LZ[t+1] = LZ[t]+RL[t]-Q1[t]\n",
    "\n",
    "    Q = Q0 + Q1 ; # total flow (mm/Dt)\n",
    "    \n",
    "    # ------------\n",
    "    # Flow routing\n",
    "    # ------------\n",
    "    def mytrimf(x,param):\n",
    "        # implements triangular-shaped membership function\n",
    "        # (available in Matlab Fuzzy Logic Toolbox as 'trimf')\n",
    "        x=np.array(x)\n",
    "        f = np.zeros(np.shape(x))\n",
    "        idx = (x>param[0]) & (x<=param[1])\n",
    "        f[idx] = (x[idx]-param[0])/(param[1]-param[0])\n",
    "        idx = (x>param[1]) & (x<=param[2])\n",
    "        f[idx] = (param[2]-x[idx])/(param[2]-param[1])\n",
    "\n",
    "        return f\n",
    "\n",
    "    c = mytrimf(np.arange(1,MAXBAS+1,1),[0, (MAXBAS+1)/2, MAXBAS+1]) # (Seibert,1997)\n",
    "\n",
    "\n",
    "    c = c/np.sum(c) # vector of normalized coefficients - (1,MAXBAS)\n",
    "    Q_sim = np.zeros([N,])\n",
    "    for t in np.arange(MAXBAS,N+1,1):\n",
    "        Q_sim[t-1] = c.dot(Q[t-MAXBAS:t]) # (Seibert,1997)\n",
    "\n",
    "    STATES=[SM,UZ,LZ]\n",
    "    FLUXES=[EA,R,RL,Q0,Q1]\n",
    "    \n",
    "    return STATES, FLUXES"
   ]
  },
  {
   "cell_type": "markdown",
   "metadata": {},
   "source": [
    "#### Flow routing"
   ]
  },
  {
   "cell_type": "code",
   "execution_count": null,
   "metadata": {},
   "outputs": [],
   "source": [
    "def mytrimf(x,param):\n",
    "    # implements triangular-shaped membership function\n",
    "    # (available in Matlab Fuzzy Logic Toolbox as 'trimf')\n",
    "    x=np.array(x)\n",
    "    f = np.zeros(np.shape(x))\n",
    "    idx = (x>param[0]) & (x<=param[1])\n",
    "    f[idx] = (x[idx]-param[0])/(param[1]-param[0])\n",
    "    idx = (x>param[1]) & (x<=param[2])\n",
    "    f[idx] = (param[2]-x[idx])/(param[2]-param[1])\n",
    "    \n",
    "    return f\n",
    "\n",
    "c = mytrimf(np.arange(1,MAXBAS+1,1),[0, (MAXBAS+1)/2, MAXBAS+1]) # (Seibert,1997)\n",
    "\n",
    "\n",
    "c = c/np.sum(c) # vector of normalized coefficients - (1,MAXBAS)\n",
    "Q_sim = np.zeros([N,])\n",
    "for t in np.arange(MAXBAS,N+1,1):\n",
    "    Q_sim[t-1] = c.dot(Q[t-MAXBAS:t]) # (Seibert,1997)\n",
    "\n",
    "STATES=[SM,UZ,LZ]\n",
    "FLUXES=[EA,R,RL,Q0,Q1]\n",
    "\n"
   ]
  },
  {
   "cell_type": "markdown",
   "metadata": {},
   "source": [
    "> Plotting the results"
   ]
  },
  {
   "cell_type": "code",
   "execution_count": null,
   "metadata": {},
   "outputs": [],
   "source": [
    "fig,ax = plt.subplots(figsize=(15, 5))\n",
    "ax.plot(num2date(dates,'days since 1900-01-01'),Q_sim, color = 'blue',linewidth = 1, label = 'total')\n",
    "ax.plot(num2date(dates,'days since 1900-01-01'),Q0, '--', color = 'blue',linewidth = 1, label = 'near surface flow')\n",
    "ax.plot(num2date(dates,'days since 1900-01-01'),Q1, ':', color = 'blue',linewidth = 1, label = 'baseflow')\n",
    "plt.suptitle('daily Q',fontsize=12)\n",
    "ax.legend(fontsize=12)\n",
    "for label in (ax.get_xticklabels() + ax.get_yticklabels()):\n",
    "    label.set_fontsize(12)\n",
    "ax.set_ylabel(\"mm\",fontsize=12)\n",
    "sm0 = widgets.FloatSlider(min=0, max=250, value = 200, decription = 'Initial soil moisture (mm)')\n",
    "plt.show()"
   ]
  },
  {
   "cell_type": "code",
   "execution_count": null,
   "metadata": {},
   "outputs": [],
   "source": []
  }
 ],
 "metadata": {
  "kernelspec": {
   "display_name": "Python 3",
   "language": "python",
   "name": "python3"
  },
  "language_info": {
   "codemirror_mode": {
    "name": "ipython",
    "version": 3
   },
   "file_extension": ".py",
   "mimetype": "text/x-python",
   "name": "python",
   "nbconvert_exporter": "python",
   "pygments_lexer": "ipython3",
   "version": "3.7.0"
  }
 },
 "nbformat": 4,
 "nbformat_minor": 2
}
