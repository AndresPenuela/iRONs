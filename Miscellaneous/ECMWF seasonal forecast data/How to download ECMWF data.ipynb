{
 "cells": [
  {
   "cell_type": "markdown",
   "metadata": {},
   "source": [
    "# How to download the ECMWF seasonal forecast ensemble data\n",
    "\n",
    "<left> <img src=\"Images/uncertainty.1.jpg\" width = \"400px\"><left>\n",
    "## 1. Create an account on the Copernicus Climate Data Store\n",
    "First of all you need to register on the [Copernicus Climate Data Store](https://cds.climate.copernicus.eu)\n",
    "\n",
    "Once you have created an account copy your user ID (UID) and API key. You can find them in your User profile\n",
    "\n",
    "In the folder containing this Notebook you will find a file called \".cdsapirc\". Copy and paste this file in your \"home\" folder. On Windows it corresponds to \"C:/Users/{your username on Windows}/\"\n",
    "\n",
    "Open the copied file with a text editor, you should see this:\n",
    "\n",
    "> url: https://cds.climate.copernicus.eu/api/v2\n",
    "\n",
    "> key: UID:APIkey\n",
    "    \n",
    "Now edit this text and replace UID by your own UID number and APIkey by your own API key number (make sure that both numbers are separated by a colon)\n",
    "    \n",
    "You can also find these intructions in this [link](https://cds.climate.copernicus.eu/api-how-to)\n",
    "\n",
    "## 2. Install the CDS API client library\n",
    "Use this command to install the library:\n",
    "\n",
    "> pip install cdsapi\n",
    "\n",
    "Use [this link](../../0%20-%20Tutorials/2%20-%20How%20to%20install%20libraries.ipynb) to learn how to install a library.\n",
    "\n",
    "## 3. Import libraries"
   ]
  },
  {
   "cell_type": "code",
   "execution_count": 11,
   "metadata": {},
   "outputs": [],
   "source": [
    "import numpy as np\n",
    "import cdsapi\n",
    "server = cdsapi.Client()"
   ]
  },
  {
   "cell_type": "markdown",
   "metadata": {},
   "source": [
    "## 4. Define the forecast dates "
   ]
  },
  {
   "cell_type": "code",
   "execution_count": 14,
   "metadata": {},
   "outputs": [],
   "source": [
    "years = [2013]\n",
    "months = [1]\n",
    "day = 1\n",
    "folder_path = 'ECMWF files'\n",
    "leadtime_hour = [str(x) for x in np.arange(0,5160+24,24)] # 5160 hours = 7 months approximately"
   ]
  },
  {
   "cell_type": "markdown",
   "metadata": {},
   "source": [
    "## 5. Download the forecast files\n",
    "The files are in netcdf4 format.\n",
    "**Comment**: it may take quite long to download the forecast, as you will see, the request will be queued."
   ]
  },
  {
   "cell_type": "code",
   "execution_count": 15,
   "metadata": {},
   "outputs": [
    {
     "name": "stderr",
     "output_type": "stream",
     "text": [
      "2019-10-22 18:07:47,949 INFO Sending request to https://cds.climate.copernicus.eu/api/v2/resources/seasonal-original-single-levels\n",
      "2019-10-22 18:07:48,237 INFO Request is queued\n",
      "2019-10-22 19:26:08,206 INFO Request is completed\n",
      "2019-10-22 19:26:08,222 INFO Downloading http://136.156.133.42/cache-compute-0014/cache/data6/adaptor.mars.external-1571765872.828765-11264-11-040e7fc6-3ab7-48e1-ab6c-995548b0de19.nc to Raw files//20130101_ECMWF_seasonal_forecast.nc (128.6K)\n",
      "2019-10-22 19:26:08,333 INFO Download rate 1.1M/s                                                                      \n"
     ]
    }
   ],
   "source": [
    "for year in years:\n",
    "    for month in months:\n",
    "\n",
    "        server.retrieve(\n",
    "            'seasonal-original-single-levels',\n",
    "            {\n",
    "                'format':'netcdf',\n",
    "                'originating_centre':'ecmwf',\n",
    "                'system':'5',\n",
    "                'variable':['2m_temperature','evaporation','total_precipitation'],\n",
    "                'year':str(year),\n",
    "                'month':str(month).zfill(2),\n",
    "                'day':str(day).zfill(2),\n",
    "                'leadtime_hour':leadtime_hour,\n",
    "                'grid': '0.2/0.05', # Spatial resolution of the grid\n",
    "                'area': '51.10/-3.5/51.05/-3.3', # Coordinates of the area that contains the catchment\n",
    "            },\n",
    "            folder_path+\"//\"+str(year)+str(month).zfill(2)+str(day).zfill(2)+\"_1d_7m_ECMWF_Temp_Evap_Rain.nc\")"
   ]
  },
  {
   "cell_type": "code",
   "execution_count": null,
   "metadata": {},
   "outputs": [],
   "source": []
  }
 ],
 "metadata": {
  "kernelspec": {
   "display_name": "Python 3",
   "language": "python",
   "name": "python3"
  },
  "language_info": {
   "codemirror_mode": {
    "name": "ipython",
    "version": 3
   },
   "file_extension": ".py",
   "mimetype": "text/x-python",
   "name": "python",
   "nbconvert_exporter": "python",
   "pygments_lexer": "ipython3",
   "version": "3.6.5"
  },
  "varInspector": {
   "cols": {
    "lenName": 16,
    "lenType": 16,
    "lenVar": 40
   },
   "kernels_config": {
    "python": {
     "delete_cmd_postfix": "",
     "delete_cmd_prefix": "del ",
     "library": "var_list.py",
     "varRefreshCmd": "print(var_dic_list())"
    },
    "r": {
     "delete_cmd_postfix": ") ",
     "delete_cmd_prefix": "rm(",
     "library": "var_list.r",
     "varRefreshCmd": "cat(var_dic_list()) "
    }
   },
   "types_to_exclude": [
    "module",
    "function",
    "builtin_function_or_method",
    "instance",
    "_Feature"
   ],
   "window_display": false
  }
 },
 "nbformat": 4,
 "nbformat_minor": 2
}
