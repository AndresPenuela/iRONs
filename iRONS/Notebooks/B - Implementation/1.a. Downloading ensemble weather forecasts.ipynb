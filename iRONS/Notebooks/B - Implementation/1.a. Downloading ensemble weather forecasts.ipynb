{
 "cells": [
  {
   "cell_type": "markdown",
   "metadata": {},
   "source": [
    "# Downloading ensemble weather forecasts\n",
    "\n",
    "The atmosphere can be viewed as a chaotic system in which the future state depends sensitively on the initial conditions, i.e. a slight change in the initial conditions can lead to a significant change in the forecast outputs. The fact that estimates of the current state are inaccurate and that numerical models have inadequacies, leads to forecast errors and uncertainty that grow with increasing forecast lead time. Ensemble forecasting aims at capturing this forecast uncertainty by generating an ensemble of several possible scenarios with the same probability of occurrence. ([Learn more about ensemble prediction](https://www.youtube.com/watch?v=NLhRUun2iso))\n",
    "\n",
    "In this Notebook we will learn how to download ensemble weather forecasts and hindcasts from the [ECMWF public dataset]. This Notebook downloads 25 (Hindcast: 1981-2016) or 50 (Forecast: 2017-2019) members of the ECMWF seasonal forecast from the server.\n",
    "They are updated and published online every 1st day of the month.\n",
    "\n",
    "The system used to generate the seasonal forecast ensemble is the [SEAS5](https://www.ecmwf.int/en/newsletter/154/meteorology/ecmwfs-new-long-range-forecasting-system-seas5).\n",
    "\n",
    "C3S Seasonal Catalogue: http://apps.ecmwf.int/data-catalogues/c3s-seasonal/?class=c3\n",
    "\n",
    "The files are in netcdf4 format.(https://apps.ecmwf.int/datasets/).\n",
    "\n",
    "<left> <img src=\"../../util/images/uncertainty.1.jpg\" width = \"400px\"><left>\n",
    "## 1. Create an account on the Copernicus Climate Data Store\n",
    "First of all you need to register on the [Copernicus Climate Data Store](https://cds.climate.copernicus.eu)\n",
    "\n",
    "Once you have created an account copy your user ID (UID) and API key. You can find them in your User profile\n",
    "\n",
    "In the folder containing this Notebook you will find a file called \".cdsapirc\". Copy and paste this file in your \"home\" folder. On Windows it corresponds to \"C:/Users/{your username on Windows}/\"\n",
    "\n",
    "Open the copied file with a text editor, you should see this:\n",
    "\n",
    "> url: https://cds.climate.copernicus.eu/api/v2\n",
    "\n",
    "> key: UID:APIkey\n",
    "    \n",
    "Now edit this text and replace UID by your own UID number and APIkey by your own API key number (make sure that both numbers are separated by a colon)\n",
    "    \n",
    "You can also find these intructions in this [link](https://cds.climate.copernicus.eu/api-how-to)\n",
    "\n",
    "## 2. Install the CDS API client library\n",
    "Use this command to install the library:\n",
    "```sh\n",
    "pip install cdsapi\n",
    "```\n",
    "Use [this link](../A%20-%20Knowledge%20transfer/0.b.%20How%20to%20install%20libraries.ipynb) to learn how to install a library.\n",
    "\n",
    "## 3. Import libraries\n",
    "First, we need to import the necessary libraries and tools. **Only if iRONS is run locally**: since one required library, [Netcdf4](https://pypi.org/project/netCDF4/) is not available on Anaconda by default, you must have installed it first. Help on how to install such libraries is given here: [How to install libraries](../A%20-%20Knowledge%20transfer/0.b.%20How%20to%20install%20libraries.ipynb). If iRONS is run on the cloud, e.g. on [Binder](https://mybinder.org/) or [Microsoft Azure Notebooks](https://notebooks.azure.com/), we do not need to install the libraries to import them. \n",
    "Once all the necessary libraries are installed locally or in the case that we are running iRONS on the cloud, we can import them with the following code:"
   ]
  },
  {
   "cell_type": "code",
   "execution_count": 1,
   "metadata": {},
   "outputs": [],
   "source": [
    "import numpy as np\n",
    "import pandas as pd\n",
    "import os\n",
    "import cdsapi\n",
    "server = cdsapi.Client()\n",
    "import sys\n",
    "from netCDF4 import Dataset # to extract data from NetCDF files (format of the downloaded ECMWF files)"
   ]
  },
  {
   "cell_type": "markdown",
   "metadata": {},
   "source": [
    "**Tools from the iRONS toolbox**"
   ]
  },
  {
   "cell_type": "code",
   "execution_count": 2,
   "metadata": {},
   "outputs": [],
   "source": [
    "sys.path.append('../../Functions')\n",
    "from Weather_forecast.Download_forecast import data_retrieval_request\n",
    "from Data_management.Read_data import read_netcdf_data"
   ]
  },
  {
   "cell_type": "markdown",
   "metadata": {},
   "source": [
    "## 4. Define the data and file parameters"
   ]
  },
  {
   "cell_type": "code",
   "execution_count": 3,
   "metadata": {},
   "outputs": [],
   "source": [
    "# Originating centre of the ensemble weather forecast\n",
    "originating_centre = 'ECMWF'\n",
    "system = '5'\n",
    "# Weather variables to download\n",
    "weather_variables = ['2m_temperature','evaporation','total_precipitation']\n",
    "# Initial dates of the forecast\n",
    "years = [2014] # np.arange(1981,2019)\n",
    "months = [11] # np.arange(1,13)\n",
    "days = [1]\n",
    "# Forecast leadtime\n",
    "leadtime = 5160 # hours. 5160 hours = 7 months approximately\n",
    "time_step = 24 # hours\n",
    "leadtime_hours = [str(x) for x in np.arange(0,leadtime+time_step,time_step)] \n",
    "# Spatial coordinates\n",
    "grid_resolution = '0.2/0.05' # The first number is east-west resolution (longitude) and the second is north-south (latitude)\n",
    "coordinates = '51.10/-3.5/51.05/-3.3' # This defines a squared area defined by N/W/S/E (in degrees)\n",
    "\n",
    "# Format of the file to download \n",
    "file_format = 'netcdf'\n",
    "# Folder and file name ending\n",
    "folder_path = 'Inputs//'+originating_centre+' forecasts '+file_format\n",
    "file_name_end = '_1d_7m_'+originating_centre+'_Temp_Evap_Rain.nc'"
   ]
  },
  {
   "cell_type": "markdown",
   "metadata": {},
   "source": [
    "## 5. Download the forecast file\n",
    "Here we call the submodule to send the request to download the file (the files are stored in the Inputs folder).\n",
    "**Comment**: it may take quite long to download the forecast. As you will see, the request will be queued."
   ]
  },
  {
   "cell_type": "code",
   "execution_count": 4,
   "metadata": {},
   "outputs": [
    {
     "name": "stderr",
     "output_type": "stream",
     "text": [
      "2020-06-26 17:16:15,788 INFO Welcome to the CDS\n",
      "2020-06-26 17:16:15,791 INFO Sending request to https://cds.climate.copernicus.eu/api/v2/resources/seasonal-original-single-levels\n",
      "2020-06-26 17:16:16,178 INFO Request is queued\n",
      "2020-06-26 17:58:34,992 INFO Request is running\n",
      "2020-06-26 18:32:35,891 INFO Request is failed\n",
      "2020-06-26 18:32:35,892 ERROR Message: the request you have submitted is not valid\n",
      "2020-06-26 18:32:35,893 ERROR Reason:  Mars server task finished in error - UserError: Requested data is on one or more damaged tape: J0496000 [ecmwf] - Error code is -2 - Request failed - Some errors reported\n",
      "2020-06-26 18:32:35,894 ERROR   Traceback (most recent call last):\n",
      "2020-06-26 18:32:35,896 ERROR     File \"/opt/cdstoolbox/cdscompute/cdscompute/cdshandlers/services/handler.py\", line 49, in handle_request\n",
      "2020-06-26 18:32:35,897 ERROR       result = cached(context.method, proc, context, context.args, context.kwargs)\n",
      "2020-06-26 18:32:35,898 ERROR     File \"/opt/cdstoolbox/cdscompute/cdscompute/caching.py\", line 108, in cached\n",
      "2020-06-26 18:32:35,899 ERROR       result = proc(context, *context.args, **context.kwargs)\n",
      "2020-06-26 18:32:35,900 ERROR     File \"/opt/cdstoolbox/cdscompute/cdscompute/services.py\", line 118, in __call__\n",
      "2020-06-26 18:32:35,902 ERROR       return p(*args, **kwargs)\n",
      "2020-06-26 18:32:35,903 ERROR     File \"/opt/cdstoolbox/cdscompute/cdscompute/services.py\", line 59, in __call__\n",
      "2020-06-26 18:32:35,904 ERROR       return self.proc(context, *args, **kwargs)\n",
      "2020-06-26 18:32:35,906 ERROR     File \"/home/cds/cdsservices/services/mars.py\", line 352, in external\n",
      "2020-06-26 18:32:35,907 ERROR       return mars(context, request, **kwargs)\n",
      "2020-06-26 18:32:35,908 ERROR     File \"/home/cds/cdsservices/services/mars.py\", line 48, in mars\n",
      "2020-06-26 18:32:35,909 ERROR       execute_mars(context, requests)\n",
      "2020-06-26 18:32:35,911 ERROR     File \"/home/cds/cdsservices/services/mars.py\", line 192, in execute_mars\n",
      "2020-06-26 18:32:35,912 ERROR       context.run_command(\"/usr/local/bin/mars\", tmp, exception=MarsException)\n",
      "2020-06-26 18:32:35,913 ERROR     File \"/opt/cdstoolbox/cdscompute/cdscompute/context.py\", line 170, in run_command\n",
      "2020-06-26 18:32:35,914 ERROR       raise exception(call, proc.returncode, output)\n",
      "2020-06-26 18:32:35,915 ERROR   home.cds.cdsservices.services.mars.py.MarsException: Mars server task finished in error - UserError: Requested data is on one or more damaged tape: J0496000 [ecmwf] - Error code is -2 - Request failed - Some errors reported\n"
     ]
    },
    {
     "ename": "Exception",
     "evalue": "the request you have submitted is not valid. Mars server task finished in error - UserError: Requested data is on one or more damaged tape: J0496000 [ecmwf] - Error code is -2 - Request failed - Some errors reported.",
     "output_type": "error",
     "traceback": [
      "\u001b[1;31m---------------------------------------------------------------------------\u001b[0m",
      "\u001b[1;31mException\u001b[0m                                 Traceback (most recent call last)",
      "\u001b[1;32m<ipython-input-4-8d804895c5bd>\u001b[0m in \u001b[0;36m<module>\u001b[1;34m\u001b[0m\n\u001b[0;32m      2\u001b[0m                            \u001b[0myears\u001b[0m\u001b[1;33m,\u001b[0m \u001b[0mmonths\u001b[0m\u001b[1;33m,\u001b[0m \u001b[0mdays\u001b[0m\u001b[1;33m,\u001b[0m \u001b[0mleadtime_hours\u001b[0m\u001b[1;33m,\u001b[0m\u001b[1;33m\u001b[0m\u001b[1;33m\u001b[0m\u001b[0m\n\u001b[0;32m      3\u001b[0m                            \u001b[0mgrid_resolution\u001b[0m\u001b[1;33m,\u001b[0m \u001b[0mcoordinates\u001b[0m\u001b[1;33m,\u001b[0m\u001b[1;33m\u001b[0m\u001b[1;33m\u001b[0m\u001b[0m\n\u001b[1;32m----> 4\u001b[1;33m                            file_format,folder_path,file_name_end)\n\u001b[0m",
      "\u001b[1;32m~\\OneDrive - University of Bristol\\AndresFrancesca\\mat\\Jupyter notebooks\\iRONS\\iRONS\\Functions\\Weather_forecast\\Download_forecast.py\u001b[0m in \u001b[0;36mdata_retrieval_request\u001b[1;34m(originating_centre, system, weather_variables, years, months, days, leadtime_hours, grid_resolution, coordinates, file_format, folder_path, file_name_end)\u001b[0m\n\u001b[0;32m     75\u001b[0m                         \u001b[1;34m'area'\u001b[0m\u001b[1;33m:\u001b[0m \u001b[0mcoordinates\u001b[0m\u001b[1;33m,\u001b[0m\u001b[1;33m\u001b[0m\u001b[1;33m\u001b[0m\u001b[0m\n\u001b[0;32m     76\u001b[0m                     },\n\u001b[1;32m---> 77\u001b[1;33m                     folder_path+\"//\"+str(year)+str(month).zfill(2)+str(day).zfill(2)+file_name_end)\n\u001b[0m",
      "\u001b[1;32m~\\AppData\\Local\\Continuum\\anaconda3\\lib\\site-packages\\cdsapi\\api.py\u001b[0m in \u001b[0;36mretrieve\u001b[1;34m(self, name, request, target)\u001b[0m\n\u001b[0;32m    308\u001b[0m \u001b[1;33m\u001b[0m\u001b[0m\n\u001b[0;32m    309\u001b[0m     \u001b[1;32mdef\u001b[0m \u001b[0mretrieve\u001b[0m\u001b[1;33m(\u001b[0m\u001b[0mself\u001b[0m\u001b[1;33m,\u001b[0m \u001b[0mname\u001b[0m\u001b[1;33m,\u001b[0m \u001b[0mrequest\u001b[0m\u001b[1;33m,\u001b[0m \u001b[0mtarget\u001b[0m\u001b[1;33m=\u001b[0m\u001b[1;32mNone\u001b[0m\u001b[1;33m)\u001b[0m\u001b[1;33m:\u001b[0m\u001b[1;33m\u001b[0m\u001b[1;33m\u001b[0m\u001b[0m\n\u001b[1;32m--> 310\u001b[1;33m         \u001b[0mresult\u001b[0m \u001b[1;33m=\u001b[0m \u001b[0mself\u001b[0m\u001b[1;33m.\u001b[0m\u001b[0m_api\u001b[0m\u001b[1;33m(\u001b[0m\u001b[1;34m'%s/resources/%s'\u001b[0m \u001b[1;33m%\u001b[0m \u001b[1;33m(\u001b[0m\u001b[0mself\u001b[0m\u001b[1;33m.\u001b[0m\u001b[0murl\u001b[0m\u001b[1;33m,\u001b[0m \u001b[0mname\u001b[0m\u001b[1;33m)\u001b[0m\u001b[1;33m,\u001b[0m \u001b[0mrequest\u001b[0m\u001b[1;33m,\u001b[0m \u001b[1;34m'POST'\u001b[0m\u001b[1;33m)\u001b[0m\u001b[1;33m\u001b[0m\u001b[1;33m\u001b[0m\u001b[0m\n\u001b[0m\u001b[0;32m    311\u001b[0m         \u001b[1;32mif\u001b[0m \u001b[0mtarget\u001b[0m \u001b[1;32mis\u001b[0m \u001b[1;32mnot\u001b[0m \u001b[1;32mNone\u001b[0m\u001b[1;33m:\u001b[0m\u001b[1;33m\u001b[0m\u001b[1;33m\u001b[0m\u001b[0m\n\u001b[0;32m    312\u001b[0m             \u001b[0mresult\u001b[0m\u001b[1;33m.\u001b[0m\u001b[0mdownload\u001b[0m\u001b[1;33m(\u001b[0m\u001b[0mtarget\u001b[0m\u001b[1;33m)\u001b[0m\u001b[1;33m\u001b[0m\u001b[1;33m\u001b[0m\u001b[0m\n",
      "\u001b[1;32m~\\AppData\\Local\\Continuum\\anaconda3\\lib\\site-packages\\cdsapi\\api.py\u001b[0m in \u001b[0;36m_api\u001b[1;34m(self, url, request, method)\u001b[0m\n\u001b[0;32m    442\u001b[0m                         \u001b[1;32mbreak\u001b[0m\u001b[1;33m\u001b[0m\u001b[1;33m\u001b[0m\u001b[0m\n\u001b[0;32m    443\u001b[0m                     \u001b[0mself\u001b[0m\u001b[1;33m.\u001b[0m\u001b[0merror\u001b[0m\u001b[1;33m(\u001b[0m\u001b[1;34m\"  %s\"\u001b[0m\u001b[1;33m,\u001b[0m \u001b[0mn\u001b[0m\u001b[1;33m)\u001b[0m\u001b[1;33m\u001b[0m\u001b[1;33m\u001b[0m\u001b[0m\n\u001b[1;32m--> 444\u001b[1;33m                 \u001b[1;32mraise\u001b[0m \u001b[0mException\u001b[0m\u001b[1;33m(\u001b[0m\u001b[1;34m\"%s. %s.\"\u001b[0m \u001b[1;33m%\u001b[0m \u001b[1;33m(\u001b[0m\u001b[0mreply\u001b[0m\u001b[1;33m[\u001b[0m\u001b[1;34m'error'\u001b[0m\u001b[1;33m]\u001b[0m\u001b[1;33m.\u001b[0m\u001b[0mget\u001b[0m\u001b[1;33m(\u001b[0m\u001b[1;34m'message'\u001b[0m\u001b[1;33m)\u001b[0m\u001b[1;33m,\u001b[0m \u001b[0mreply\u001b[0m\u001b[1;33m[\u001b[0m\u001b[1;34m'error'\u001b[0m\u001b[1;33m]\u001b[0m\u001b[1;33m.\u001b[0m\u001b[0mget\u001b[0m\u001b[1;33m(\u001b[0m\u001b[1;34m'reason'\u001b[0m\u001b[1;33m)\u001b[0m\u001b[1;33m)\u001b[0m\u001b[1;33m)\u001b[0m\u001b[1;33m\u001b[0m\u001b[1;33m\u001b[0m\u001b[0m\n\u001b[0m\u001b[0;32m    445\u001b[0m \u001b[1;33m\u001b[0m\u001b[0m\n\u001b[0;32m    446\u001b[0m             \u001b[1;32mraise\u001b[0m \u001b[0mException\u001b[0m\u001b[1;33m(\u001b[0m\u001b[1;34m'Unknown API state [%s]'\u001b[0m \u001b[1;33m%\u001b[0m \u001b[1;33m(\u001b[0m\u001b[0mreply\u001b[0m\u001b[1;33m[\u001b[0m\u001b[1;34m'state'\u001b[0m\u001b[1;33m]\u001b[0m\u001b[1;33m,\u001b[0m\u001b[1;33m)\u001b[0m\u001b[1;33m)\u001b[0m\u001b[1;33m\u001b[0m\u001b[1;33m\u001b[0m\u001b[0m\n",
      "\u001b[1;31mException\u001b[0m: the request you have submitted is not valid. Mars server task finished in error - UserError: Requested data is on one or more damaged tape: J0496000 [ecmwf] - Error code is -2 - Request failed - Some errors reported."
     ]
    }
   ],
   "source": [
    "data_retrieval_request(originating_centre,system,weather_variables,\n",
    "                           years, months, days, leadtime_hours,\n",
    "                           grid_resolution, coordinates,\n",
    "                           file_format,folder_path,file_name_end)"
   ]
  },
  {
   "cell_type": "markdown",
   "metadata": {},
   "source": [
    "## 6. Save a copy of the forecast file in CSV format\n",
    "The downloaded forecast files are in [NetCDF](https://confluence.ecmwf.int/display/CKB/What+are+NetCDF+files+and+how+can+I+read+them) (Network Common Data Form) format. This file format supports the creation, access, and sharing of array-oriented scientific data.\n",
    "Here we will extract temperature, evaporation and rainfall data using their corresponding short names: 't2m' (temperature), 'e' (evaporation) and 'tp' (rainfall) respectively and save the forecast ensemble for each of these weather variables in CSV (the files are stored in the Inputs folder).  \n",
    "\n",
    "**Comment:** You can find a complete list of weather variables with their corresponding short names in this [link](https://apps.ecmwf.int/codes/grib/param-db/?filter=netcdf).\n",
    "\n",
    "**Comment:** A CSV is a comma-separated values file, which allows data to be saved in a tabular format. CSV files can be used either with most any spreadsheet program, such as Microsoft Excel, or text editors."
   ]
  },
  {
   "cell_type": "markdown",
   "metadata": {},
   "source": [
    "### 6.1 Extract temperature data (temperature at 2m over the surface: 't2m')\n",
    "Original data is in degK"
   ]
  },
  {
   "cell_type": "code",
   "execution_count": null,
   "metadata": {},
   "outputs": [],
   "source": [
    "for year in years:\n",
    "    for month in months:\n",
    "        for day in days:\n",
    "            file_name = str(year)+str(month).zfill(2)+str(1).zfill(2)+file_name_end\n",
    "            dates_fore,Temp_fore = read_netcdf_data(folder_path,file_name,'t2m')\n",
    "            # Spatially averaged data and converted into degC\n",
    "            Temp_fore_ens = Temp_fore.mean(3).mean(2)-273.15\n",
    "            Temp_fore_df = pd.DataFrame(Temp_fore_ens)\n",
    "            Temp_fore_df.insert(0,'Date',dates_fore.strftime('%d/%m/%Y'))\n",
    "            Temp_fore_df.to_csv('Inputs//'+originating_centre+' forecasts csv'+'//'+\n",
    "                                str(year)+str(month).zfill(2)+str(day).zfill(2)+\n",
    "                                '_1d_7m_'+originating_centre+'_Temp.csv',index = None)"
   ]
  },
  {
   "cell_type": "markdown",
   "metadata": {},
   "source": [
    "### 6.2 Evaporation"
   ]
  },
  {
   "cell_type": "code",
   "execution_count": null,
   "metadata": {},
   "outputs": [],
   "source": [
    "for year in years:\n",
    "    for month in months:\n",
    "        for day in days:\n",
    "            file_name = str(year)+str(month).zfill(2)+str(1).zfill(2)+file_name_end\n",
    "            dates_fore,Evap_fore = read_netcdf_data(folder_path,file_name,'e')\n",
    "            # Spatially averaged data and coverted into mm\n",
    "            Evap_fore_ens = -Evap_fore.mean(3).mean(2)*1000\n",
    "            Evap_fore_df = pd.DataFrame(Evap_fore_ens)\n",
    "            Evap_fore_df.insert(0,'Date',dates_fore.strftime('%d/%m/%Y'))\n",
    "            Evap_fore_df.to_csv('Inputs//'+originating_centre+' forecasts csv'+'//'+\n",
    "                                str(year)+str(month).zfill(2)+str(day).zfill(2)+\n",
    "                                '_1d_7m_'+originating_centre+'_Evap.csv',index = None)"
   ]
  },
  {
   "cell_type": "markdown",
   "metadata": {},
   "source": [
    "### 6.3 Rainfall"
   ]
  },
  {
   "cell_type": "code",
   "execution_count": null,
   "metadata": {},
   "outputs": [],
   "source": [
    "for year in years:\n",
    "    for month in months:\n",
    "        for day in days:\n",
    "            file_name = str(year)+str(month).zfill(2)+str(1).zfill(2)+file_name_end\n",
    "            dates_fore,Rain_fore = read_netcdf_data(folder_path,file_name,'tp')\n",
    "            # Spatially averaged data and coverted into mm\n",
    "            Rain_fore_ens = Rain_fore.mean(3).mean(2)*1000\n",
    "            Rain_fore_df = pd.DataFrame(Rain_fore_ens)\n",
    "            Rain_fore_df.insert(0,'Date',dates_fore.strftime('%d/%m/%Y'))\n",
    "            Rain_fore_df.to_csv('Inputs//'+originating_centre+' forecasts csv'+'//'+\n",
    "                                str(year)+str(month).zfill(2)+str(day).zfill(2)+\n",
    "                                '_1d_7m_'+originating_centre+'_Rain.csv',index = None)"
   ]
  },
  {
   "cell_type": "markdown",
   "metadata": {},
   "source": [
    "#### Let's go to the next Notebook to read and bias correct the downladed data: [Bias correction of weather forecasts](1.b.%20Bias%20correction%20of%20weather%20forecasts.ipynb)"
   ]
  }
 ],
 "metadata": {
  "kernelspec": {
   "display_name": "Python 3",
   "language": "python",
   "name": "python3"
  },
  "language_info": {
   "codemirror_mode": {
    "name": "ipython",
    "version": 3
   },
   "file_extension": ".py",
   "mimetype": "text/x-python",
   "name": "python",
   "nbconvert_exporter": "python",
   "pygments_lexer": "ipython3",
   "version": "3.7.4"
  },
  "varInspector": {
   "cols": {
    "lenName": 16,
    "lenType": 16,
    "lenVar": 40
   },
   "kernels_config": {
    "python": {
     "delete_cmd_postfix": "",
     "delete_cmd_prefix": "del ",
     "library": "var_list.py",
     "varRefreshCmd": "print(var_dic_list())"
    },
    "r": {
     "delete_cmd_postfix": ") ",
     "delete_cmd_prefix": "rm(",
     "library": "var_list.r",
     "varRefreshCmd": "cat(var_dic_list()) "
    }
   },
   "types_to_exclude": [
    "module",
    "function",
    "builtin_function_or_method",
    "instance",
    "_Feature"
   ],
   "window_display": false
  }
 },
 "nbformat": 4,
 "nbformat_minor": 2
}
